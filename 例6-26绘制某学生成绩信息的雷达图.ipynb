{
 "cells": [
  {
   "cell_type": "code",
   "execution_count": null,
   "id": "d09b5bcc",
   "metadata": {},
   "outputs": [],
   "source": [
    "import matplotlib.pyplot as plt\n",
    "import numpy as np\n",
    "%matplotlib inline\n",
    "# 某学生的课程与成绩\n",
    "courses = ['数据结构', '数据可视化', '高数', '英语', '软件工程', '组成原理', 'C语言', '体育']\n",
    "scores = [82, 95, 78, 85, 45, 88, 76, 88]\n",
    "dataLength = len(scores)               # 数据长度\n",
    "# angles数组把圆周等分为dataLength份\n",
    "angles = np.linspace(0, 2*np.pi, dataLength, endpoint=False)    \n",
    "courses.append(courses[0])\n",
    "scores.append(scores[0])\n",
    "angles = np.append(angles, angles[0])  # 闭合\n",
    "# 绘制雷达图\n",
    "plt.polar(angles,              # 设置角度\n",
    "          scores,            # 设置各角度上的数据\n",
    "          'rv--',             # 设置颜色、线型和端点符号\n",
    "          linewidth=2)       # 设置线宽\n",
    "# 设置角度网格标签\n",
    "plt.thetagrids(angles*180/np.pi, courses, fontproperties='simhei', fontsize=12)\n",
    "# 填充雷达图内部\n",
    "plt.fill(angles, scores, facecolor='r', alpha=0.2)\n",
    "plt.show()"
   ]
  }
 ],
 "metadata": {
  "kernelspec": {
   "display_name": "Python 3 (ipykernel)",
   "language": "python",
   "name": "python3"
  },
  "language_info": {
   "codemirror_mode": {
    "name": "ipython",
    "version": 3
   },
   "file_extension": ".py",
   "mimetype": "text/x-python",
   "name": "python",
   "nbconvert_exporter": "python",
   "pygments_lexer": "ipython3",
   "version": "3.7.1"
  }
 },
 "nbformat": 4,
 "nbformat_minor": 5
}
