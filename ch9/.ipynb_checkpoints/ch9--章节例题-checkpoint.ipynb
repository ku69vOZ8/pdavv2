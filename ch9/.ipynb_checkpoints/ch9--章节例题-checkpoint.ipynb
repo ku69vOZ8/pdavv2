{
 "cells": [
  {
   "cell_type": "markdown",
   "metadata": {},
   "source": [
    "【例9-1】date类型数据的创建。"
   ]
  },
  {
   "cell_type": "code",
   "execution_count": 1,
   "metadata": {},
   "outputs": [
    {
     "name": "stdout",
     "output_type": "stream",
     "text": [
      "2019-06-01\n",
      "2019 6 1\n"
     ]
    }
   ],
   "source": [
    "import datetime\n",
    "date = datetime.date(2019,6,1)\n",
    "print(date)\n",
    "print(date.year,date.month,date.day)\n"
   ]
  },
  {
   "cell_type": "markdown",
   "metadata": {},
   "source": [
    "【例9-2】time类型数据的用法。"
   ]
  },
  {
   "cell_type": "code",
   "execution_count": 2,
   "metadata": {},
   "outputs": [
    {
     "name": "stdout",
     "output_type": "stream",
     "text": [
      "10:20:15\n",
      "10 20 15\n"
     ]
    }
   ],
   "source": [
    "time = datetime.time(10,20,15)\n",
    "print(time)\n",
    "print(time.hour,time.minute,time.second)\n"
   ]
  },
  {
   "cell_type": "markdown",
   "metadata": {},
   "source": [
    "【例9-3】now函数查看当前时间。"
   ]
  },
  {
   "cell_type": "code",
   "execution_count": 3,
   "metadata": {},
   "outputs": [
    {
     "name": "stdout",
     "output_type": "stream",
     "text": [
      "2020-12-06 10:17:16.112713\n"
     ]
    }
   ],
   "source": [
    "now = datetime.datetime.now()\n",
    "print(now)\n"
   ]
  },
  {
   "cell_type": "markdown",
   "metadata": {},
   "source": [
    "【例9-4】timedelta类数据应用。"
   ]
  },
  {
   "cell_type": "code",
   "execution_count": 4,
   "metadata": {},
   "outputs": [
    {
     "name": "stdout",
     "output_type": "stream",
     "text": [
      "1679 days, 15:46:51.373553\n"
     ]
    }
   ],
   "source": [
    "now = datetime.datetime.now()\n",
    "birth = datetime.datetime(2016,5,1,18,30,25)\n",
    "delta = now-birth\n",
    "print(delta)\n"
   ]
  },
  {
   "cell_type": "markdown",
   "metadata": {},
   "source": [
    "【例9-5】将datetime类数据转换为字符串数据。"
   ]
  },
  {
   "cell_type": "code",
   "execution_count": 5,
   "metadata": {},
   "outputs": [
    {
     "name": "stdout",
     "output_type": "stream",
     "text": [
      "2019-06-04 00:00:00\n"
     ]
    }
   ],
   "source": [
    "from datetime import datetime\n",
    "stamp = datetime(2019,6,4)\n",
    "print(str(stamp))\n"
   ]
  },
  {
   "cell_type": "markdown",
   "metadata": {},
   "source": [
    "【例9-6】strftime方法转换datetime类型数据。"
   ]
  },
  {
   "cell_type": "code",
   "execution_count": 6,
   "metadata": {},
   "outputs": [
    {
     "data": {
      "text/plain": [
       "'2019/06/04'"
      ]
     },
     "execution_count": 6,
     "metadata": {},
     "output_type": "execute_result"
    }
   ],
   "source": [
    "stamp.strftime('%Y/%m/%d')"
   ]
  },
  {
   "cell_type": "markdown",
   "metadata": {},
   "source": [
    "【例9-7】字符串转换为日期类型。"
   ]
  },
  {
   "cell_type": "code",
   "execution_count": 7,
   "metadata": {
    "scrolled": true
   },
   "outputs": [
    {
     "name": "stdout",
     "output_type": "stream",
     "text": [
      "2019-06-23 00:00:00\n"
     ]
    },
    {
     "data": {
      "text/plain": [
       "[datetime.datetime(1976, 7, 19, 0, 0), datetime.datetime(1976, 8, 1, 0, 0)]"
      ]
     },
     "execution_count": 7,
     "metadata": {},
     "output_type": "execute_result"
    }
   ],
   "source": [
    "w_value = '2019-6-23'\n",
    "print(datetime.strptime('2019-06-23','%Y-%m-%d'))\n",
    "datestrs = ['7/19/1976','8/1/1976']\n",
    "[datetime.strptime(x,'%m/%d/%Y') for x in datestrs ]\n"
   ]
  },
  {
   "cell_type": "markdown",
   "metadata": {},
   "source": [
    "【例9-8】时间序列的构造。"
   ]
  },
  {
   "cell_type": "code",
   "execution_count": 8,
   "metadata": {},
   "outputs": [
    {
     "name": "stdout",
     "output_type": "stream",
     "text": [
      "2018-05-15    0\n",
      "2018-06-15    1\n",
      "2019-05-18    2\n",
      "2019-05-25    3\n",
      "dtype: int32\n"
     ]
    }
   ],
   "source": [
    "import pandas as pd\n",
    "import numpy as np\n",
    "w_dates = [datetime(2018,5,15),datetime(2018,6,15),datetime(2019,5,18),datetime(2019,5,25)]\n",
    "s = pd.Series(np.arange(4),index = w_dates)\n",
    "print(s)\n"
   ]
  },
  {
   "cell_type": "markdown",
   "metadata": {},
   "source": [
    "【例9-9】创建时间序列的索引。"
   ]
  },
  {
   "cell_type": "code",
   "execution_count": 9,
   "metadata": {},
   "outputs": [
    {
     "data": {
      "text/plain": [
       "DatetimeIndex(['2018-05-15', '2018-06-15', '2019-05-18', '2019-05-25'], dtype='datetime64[ns]', freq=None)"
      ]
     },
     "execution_count": 9,
     "metadata": {},
     "output_type": "execute_result"
    }
   ],
   "source": [
    "s.index"
   ]
  },
  {
   "cell_type": "markdown",
   "metadata": {},
   "source": [
    "【例9-10】时间序列索引对齐。"
   ]
  },
  {
   "cell_type": "code",
   "execution_count": 10,
   "metadata": {},
   "outputs": [
    {
     "data": {
      "text/plain": [
       "2018-05-15    0.0\n",
       "2018-06-15    NaN\n",
       "2019-05-18    4.0\n",
       "2019-05-25    NaN\n",
       "dtype: float64"
      ]
     },
     "execution_count": 10,
     "metadata": {},
     "output_type": "execute_result"
    }
   ],
   "source": [
    "s+s[::2]"
   ]
  },
  {
   "cell_type": "markdown",
   "metadata": {},
   "source": [
    "【例9-11】时间序列的索引。"
   ]
  },
  {
   "cell_type": "code",
   "execution_count": 11,
   "metadata": {},
   "outputs": [
    {
     "name": "stdout",
     "output_type": "stream",
     "text": [
      "2018-05-15    0\n",
      "2018-06-15    1\n",
      "2019-05-18    2\n",
      "2019-05-25    3\n",
      "dtype: int32\n",
      "2\n"
     ]
    }
   ],
   "source": [
    "print(s)\n",
    "print(s[2])\n"
   ]
  },
  {
   "cell_type": "markdown",
   "metadata": {},
   "source": [
    "【例9-12】时间序列的切片。"
   ]
  },
  {
   "cell_type": "code",
   "execution_count": 12,
   "metadata": {},
   "outputs": [
    {
     "data": {
      "text/plain": [
       "2018-05-15    0\n",
       "2018-06-15    1\n",
       "dtype: int32"
      ]
     },
     "execution_count": 12,
     "metadata": {},
     "output_type": "execute_result"
    }
   ],
   "source": [
    "s[:2]"
   ]
  },
  {
   "cell_type": "markdown",
   "metadata": {},
   "source": [
    "【例9-13】利用索引进行时间序列的切片。"
   ]
  },
  {
   "cell_type": "code",
   "execution_count": 13,
   "metadata": {},
   "outputs": [
    {
     "data": {
      "text/plain": [
       "2019-05-18    2\n",
       "dtype: int32"
      ]
     },
     "execution_count": 13,
     "metadata": {},
     "output_type": "execute_result"
    }
   ],
   "source": [
    "s['2019-05-15':'2019-05-18']"
   ]
  },
  {
   "cell_type": "markdown",
   "metadata": {},
   "source": [
    "【例9-14】利用年获取时间序列切片。"
   ]
  },
  {
   "cell_type": "code",
   "execution_count": 14,
   "metadata": {},
   "outputs": [
    {
     "data": {
      "text/plain": [
       "2018-05-15    0\n",
       "2018-06-15    1\n",
       "dtype: int32"
      ]
     },
     "execution_count": 14,
     "metadata": {},
     "output_type": "execute_result"
    }
   ],
   "source": [
    "s['2018']"
   ]
  },
  {
   "cell_type": "markdown",
   "metadata": {},
   "source": [
    "【例9-15】利用年和月获取时间序列切片。"
   ]
  },
  {
   "cell_type": "code",
   "execution_count": 15,
   "metadata": {},
   "outputs": [
    {
     "data": {
      "text/plain": [
       "2018-06-15    1\n",
       "dtype: int32"
      ]
     },
     "execution_count": 15,
     "metadata": {},
     "output_type": "execute_result"
    }
   ],
   "source": [
    "s['2018-6']"
   ]
  },
  {
   "cell_type": "markdown",
   "metadata": {},
   "source": [
    "【例9-16】查看重复时间序列。"
   ]
  },
  {
   "cell_type": "code",
   "execution_count": 16,
   "metadata": {},
   "outputs": [
    {
     "data": {
      "text/plain": [
       "True"
      ]
     },
     "execution_count": 16,
     "metadata": {},
     "output_type": "execute_result"
    }
   ],
   "source": [
    "s.index.is_unique"
   ]
  },
  {
   "cell_type": "markdown",
   "metadata": {},
   "source": [
    "【例9-17】date_range函数创建DatetimeIndex索引。"
   ]
  },
  {
   "cell_type": "code",
   "execution_count": 17,
   "metadata": {},
   "outputs": [
    {
     "data": {
      "text/plain": [
       "DatetimeIndex(['2018-12-28', '2018-12-29', '2018-12-30', '2018-12-31',\n",
       "               '2019-01-01', '2019-01-02', '2019-01-03', '2019-01-04',\n",
       "               '2019-01-05', '2019-01-06', '2019-01-07', '2019-01-08',\n",
       "               '2019-01-09', '2019-01-10'],\n",
       "              dtype='datetime64[ns]', freq='D')"
      ]
     },
     "execution_count": 17,
     "metadata": {},
     "output_type": "execute_result"
    }
   ],
   "source": [
    "index = pd.date_range('2018-12-28','2019-1-10')\n",
    "index\n"
   ]
  },
  {
   "cell_type": "markdown",
   "metadata": {},
   "source": [
    "【例9-18】date_range中指定开始日期和长度。"
   ]
  },
  {
   "cell_type": "code",
   "execution_count": 18,
   "metadata": {},
   "outputs": [
    {
     "data": {
      "text/plain": [
       "DatetimeIndex(['2019-05-28', '2019-05-29', '2019-05-30', '2019-05-31',\n",
       "               '2019-06-01', '2019-06-02'],\n",
       "              dtype='datetime64[ns]', freq='D')"
      ]
     },
     "execution_count": 18,
     "metadata": {},
     "output_type": "execute_result"
    }
   ],
   "source": [
    "index = pd.date_range(start =  '2019-5-28',periods = 6)\n",
    "index\n"
   ]
  },
  {
   "cell_type": "markdown",
   "metadata": {},
   "source": [
    "【例9-19】date_range中指定结束日期和长度。"
   ]
  },
  {
   "cell_type": "code",
   "execution_count": 19,
   "metadata": {},
   "outputs": [
    {
     "data": {
      "text/plain": [
       "DatetimeIndex(['2019-05-23', '2019-05-24', '2019-05-25', '2019-05-26',\n",
       "               '2019-05-27', '2019-05-28'],\n",
       "              dtype='datetime64[ns]', freq='D')"
      ]
     },
     "execution_count": 19,
     "metadata": {},
     "output_type": "execute_result"
    }
   ],
   "source": [
    "index = pd.date_range(end = '2019-5-28',periods = 6)\n",
    "index\n"
   ]
  },
  {
   "cell_type": "markdown",
   "metadata": {},
   "source": [
    "【例9-20】freq设置频率‘M’。"
   ]
  },
  {
   "cell_type": "code",
   "execution_count": 20,
   "metadata": {},
   "outputs": [
    {
     "data": {
      "text/plain": [
       "DatetimeIndex(['2018-12-31', '2019-01-31', '2019-02-28'], dtype='datetime64[ns]', freq='M')"
      ]
     },
     "execution_count": 20,
     "metadata": {},
     "output_type": "execute_result"
    }
   ],
   "source": [
    "index = pd.date_range('2018-12-28','2019-3-10',freq = 'M')\n",
    "index\n"
   ]
  },
  {
   "cell_type": "markdown",
   "metadata": {},
   "source": [
    "【例9-21】freq设置频率‘2H’。"
   ]
  },
  {
   "cell_type": "code",
   "execution_count": 21,
   "metadata": {},
   "outputs": [
    {
     "data": {
      "text/plain": [
       "DatetimeIndex(['2019-05-28 00:00:00', '2019-05-28 02:00:00',\n",
       "               '2019-05-28 04:00:00', '2019-05-28 06:00:00'],\n",
       "              dtype='datetime64[ns]', freq='2H')"
      ]
     },
     "execution_count": 21,
     "metadata": {},
     "output_type": "execute_result"
    }
   ],
   "source": [
    "index = pd.date_range(start =  '2019-5-28',periods = 4,freq = '2H')\n",
    "index\n"
   ]
  },
  {
   "cell_type": "markdown",
   "metadata": {},
   "source": [
    "【例9-22】设置频率字符串。"
   ]
  },
  {
   "cell_type": "code",
   "execution_count": 22,
   "metadata": {},
   "outputs": [
    {
     "data": {
      "text/plain": [
       "DatetimeIndex(['2019-05-28 00:00:00', '2019-05-28 02:15:15',\n",
       "               '2019-05-28 04:30:30', '2019-05-28 06:45:45'],\n",
       "              dtype='datetime64[ns]', freq='8115S')"
      ]
     },
     "execution_count": 22,
     "metadata": {},
     "output_type": "execute_result"
    }
   ],
   "source": [
    "index = pd.date_range(start =  '2019-5-28',periods = 4,freq = '2H15T15S')\n",
    "index\n"
   ]
  },
  {
   "cell_type": "markdown",
   "metadata": {},
   "source": [
    "【例9-23】时间数据的移位。"
   ]
  },
  {
   "cell_type": "code",
   "execution_count": 23,
   "metadata": {},
   "outputs": [
    {
     "name": "stdout",
     "output_type": "stream",
     "text": [
      "2019-01-31   -1.540670\n",
      "2019-02-28    0.048570\n",
      "2019-03-31    1.178374\n",
      "2019-04-30   -0.210968\n",
      "Freq: M, dtype: float64\n"
     ]
    },
    {
     "data": {
      "text/plain": [
       "2019-01-31        NaN\n",
       "2019-02-28        NaN\n",
       "2019-03-31   -1.54067\n",
       "2019-04-30    0.04857\n",
       "Freq: M, dtype: float64"
      ]
     },
     "execution_count": 23,
     "metadata": {},
     "output_type": "execute_result"
    }
   ],
   "source": [
    "wdate = pd.Series(np.random.randn(4),index = pd.date_range('2019/1/1',periods = 4,freq = 'M'))\n",
    "print(wdate)\n",
    "wdate.shift(2)\n"
   ]
  },
  {
   "cell_type": "markdown",
   "metadata": {},
   "source": [
    "【例9-24】shift方法中传入频率参数修改索引。"
   ]
  },
  {
   "cell_type": "code",
   "execution_count": 24,
   "metadata": {},
   "outputs": [
    {
     "data": {
      "text/plain": [
       "2019-02-02   -1.540670\n",
       "2019-03-02    0.048570\n",
       "2019-04-02    1.178374\n",
       "2019-05-02   -0.210968\n",
       "dtype: float64"
      ]
     },
     "execution_count": 24,
     "metadata": {},
     "output_type": "execute_result"
    }
   ],
   "source": [
    "wdate.shift(2,freq = 'D')"
   ]
  },
  {
   "cell_type": "markdown",
   "metadata": {},
   "source": [
    "【例9-25】利用period可以创建时期型数据。"
   ]
  },
  {
   "cell_type": "code",
   "execution_count": 25,
   "metadata": {},
   "outputs": [
    {
     "name": "stdout",
     "output_type": "stream",
     "text": [
      "2019\n",
      "2021\n"
     ]
    }
   ],
   "source": [
    "w = pd.Period(2019,freq = 'A-DEC')\n",
    "print(w)\n",
    "print(w+2)\n"
   ]
  },
  {
   "cell_type": "markdown",
   "metadata": {},
   "source": [
    "【例9-26】PeriodIndex索引的用法。"
   ]
  },
  {
   "cell_type": "code",
   "execution_count": 26,
   "metadata": {},
   "outputs": [
    {
     "data": {
      "text/plain": [
       "2019-01    0\n",
       "2019-02    1\n",
       "2019-03    2\n",
       "2019-04    3\n",
       "2019-05    4\n",
       "2019-06    5\n",
       "Freq: M, dtype: int32"
      ]
     },
     "execution_count": 26,
     "metadata": {},
     "output_type": "execute_result"
    }
   ],
   "source": [
    "wdate = pd.period_range('2019/1/1','2019/6/1',freq = 'M')\n",
    "pd.Series(np.arange(6),index = wdate)\n"
   ]
  },
  {
   "cell_type": "markdown",
   "metadata": {},
   "source": [
    "【例9-27】频率转换。"
   ]
  },
  {
   "cell_type": "code",
   "execution_count": 27,
   "metadata": {},
   "outputs": [
    {
     "name": "stdout",
     "output_type": "stream",
     "text": [
      "2018-03\n",
      "2019-02\n"
     ]
    }
   ],
   "source": [
    "p = pd.Period(2019,freq = 'A-FEB')\n",
    "print(p.asfreq('M',how = 'start'))\n",
    "print(p.asfreq('M',how = 'end'))\n"
   ]
  },
  {
   "cell_type": "markdown",
   "metadata": {},
   "source": [
    "【例9-28】日期数据的转换。"
   ]
  },
  {
   "cell_type": "code",
   "execution_count": 28,
   "metadata": {},
   "outputs": [
    {
     "name": "stdout",
     "output_type": "stream",
     "text": [
      "2019-01-31    0\n",
      "2019-02-28    1\n",
      "2019-03-31    2\n",
      "2019-04-30    3\n",
      "2019-05-31    4\n",
      "Freq: M, dtype: int32\n",
      "2019-01    0\n",
      "2019-02    1\n",
      "2019-03    2\n",
      "2019-04    3\n",
      "2019-05    4\n",
      "Freq: M, dtype: int32\n"
     ]
    }
   ],
   "source": [
    "w = pd.date_range('2019/1/1','2019/6/1',freq = 'M')\n",
    "y = pd.Series(np.arange(5),index = w)\n",
    "print(y)\n",
    "ps = y.to_period()\n",
    "print(ps)\n"
   ]
  },
  {
   "cell_type": "markdown",
   "metadata": {},
   "source": [
    "【例9-29】将间隔为天的频率转换为间隔为月的频率。"
   ]
  },
  {
   "cell_type": "code",
   "execution_count": 29,
   "metadata": {},
   "outputs": [
    {
     "name": "stdout",
     "output_type": "stream",
     "text": [
      "2018-06-01    0\n",
      "2018-06-02    1\n",
      "2018-06-03    2\n",
      "2018-06-04    3\n",
      "2018-06-05    4\n",
      "2018-06-06    5\n",
      "2018-06-07    6\n",
      "2018-06-08    7\n",
      "Freq: D, dtype: int32\n",
      "2018-06-30    14.5\n",
      "2018-07-31    45.0\n",
      "2018-08-31    76.0\n",
      "2018-09-30    95.5\n",
      "Freq: M, dtype: float64\n"
     ]
    }
   ],
   "source": [
    "w = pd.date_range(start = '2018/6/1',periods = 100,freq = 'D')\n",
    "y = pd.Series(np.arange(100),index = w)\n",
    "print(y.head(8))\n",
    "ps = y.resample('M').mean()\n",
    "print(ps)\n"
   ]
  },
  {
   "cell_type": "markdown",
   "metadata": {},
   "source": [
    "【例9-30】降采样。"
   ]
  },
  {
   "cell_type": "code",
   "execution_count": 30,
   "metadata": {},
   "outputs": [
    {
     "name": "stdout",
     "output_type": "stream",
     "text": [
      "2019-05-01    0\n",
      "2019-05-02    1\n",
      "2019-05-03    2\n",
      "2019-05-04    3\n",
      "2019-05-05    4\n",
      "2019-05-06    5\n",
      "2019-05-07    6\n",
      "2019-05-08    7\n",
      "2019-05-09    8\n",
      "2019-05-10    9\n",
      "Freq: D, dtype: int32\n"
     ]
    },
    {
     "data": {
      "text/plain": [
       "2019-05-01     0\n",
       "2019-05-04     6\n",
       "2019-05-07    15\n",
       "2019-05-10    24\n",
       "Freq: 3D, dtype: int32"
      ]
     },
     "execution_count": 30,
     "metadata": {},
     "output_type": "execute_result"
    }
   ],
   "source": [
    "wdate = pd.date_range(start = '2019/5/1',periods = 10,freq = 'D')\n",
    "w = pd.Series(np.arange(10),index = wdate)\n",
    "print(w)\n",
    "w.resample('3D',closed = 'right',label = 'right').sum()\n"
   ]
  },
  {
   "cell_type": "markdown",
   "metadata": {},
   "source": [
    "【例9-31】升采样"
   ]
  },
  {
   "cell_type": "code",
   "execution_count": 31,
   "metadata": {},
   "outputs": [
    {
     "name": "stdout",
     "output_type": "stream",
     "text": [
      "2019-06-01    1\n",
      "2019-06-06    6\n",
      "dtype: int64\n"
     ]
    },
    {
     "data": {
      "text/plain": [
       "2019-06-01    1\n",
       "2019-06-02    1\n",
       "2019-06-03    1\n",
       "2019-06-04    1\n",
       "2019-06-05    1\n",
       "2019-06-06    6\n",
       "Freq: D, dtype: int64"
      ]
     },
     "execution_count": 31,
     "metadata": {},
     "output_type": "execute_result"
    }
   ],
   "source": [
    "ydata = [datetime(2019,6,1),datetime(2019,6,6)]\n",
    "y = pd.Series([1,6],index = ydata)\n",
    "print(y)\n",
    "y.resample('D').ffill()\n"
   ]
  },
  {
   "cell_type": "code",
   "execution_count": 32,
   "metadata": {},
   "outputs": [],
   "source": [
    "# !pip install pandas-datareader\n",
    "# import pandas_datareader.data as Fdata\n",
    "\n",
    "# goog = Fdata.DataReader('GOOG', start='2004', end='2021',data_source='yahoo')\n",
    "# goog.tail()"
   ]
  },
  {
   "cell_type": "markdown",
   "metadata": {},
   "source": [
    "<font size=5 color=red> 序列的平稳性检验 </font>"
   ]
  },
  {
   "cell_type": "code",
   "execution_count": 33,
   "metadata": {},
   "outputs": [
    {
     "data": {
      "text/html": [
       "<div>\n",
       "<style scoped>\n",
       "    .dataframe tbody tr th:only-of-type {\n",
       "        vertical-align: middle;\n",
       "    }\n",
       "\n",
       "    .dataframe tbody tr th {\n",
       "        vertical-align: top;\n",
       "    }\n",
       "\n",
       "    .dataframe thead th {\n",
       "        text-align: right;\n",
       "    }\n",
       "</style>\n",
       "<table border=\"1\" class=\"dataframe\">\n",
       "  <thead>\n",
       "    <tr style=\"text-align: right;\">\n",
       "      <th></th>\n",
       "      <th>Fremont Bridge Total</th>\n",
       "      <th>Fremont Bridge East Sidewalk</th>\n",
       "      <th>Fremont Bridge West Sidewalk</th>\n",
       "    </tr>\n",
       "    <tr>\n",
       "      <th>Date</th>\n",
       "      <th></th>\n",
       "      <th></th>\n",
       "      <th></th>\n",
       "    </tr>\n",
       "  </thead>\n",
       "  <tbody>\n",
       "    <tr>\n",
       "      <td>2012-10-03 00:00:00</td>\n",
       "      <td>13.0</td>\n",
       "      <td>4.0</td>\n",
       "      <td>9.0</td>\n",
       "    </tr>\n",
       "    <tr>\n",
       "      <td>2012-10-03 01:00:00</td>\n",
       "      <td>10.0</td>\n",
       "      <td>4.0</td>\n",
       "      <td>6.0</td>\n",
       "    </tr>\n",
       "    <tr>\n",
       "      <td>2012-10-03 02:00:00</td>\n",
       "      <td>2.0</td>\n",
       "      <td>1.0</td>\n",
       "      <td>1.0</td>\n",
       "    </tr>\n",
       "    <tr>\n",
       "      <td>2012-10-03 03:00:00</td>\n",
       "      <td>5.0</td>\n",
       "      <td>2.0</td>\n",
       "      <td>3.0</td>\n",
       "    </tr>\n",
       "    <tr>\n",
       "      <td>2012-10-03 04:00:00</td>\n",
       "      <td>7.0</td>\n",
       "      <td>6.0</td>\n",
       "      <td>1.0</td>\n",
       "    </tr>\n",
       "  </tbody>\n",
       "</table>\n",
       "</div>"
      ],
      "text/plain": [
       "                     Fremont Bridge Total  Fremont Bridge East Sidewalk  \\\n",
       "Date                                                                      \n",
       "2012-10-03 00:00:00                  13.0                           4.0   \n",
       "2012-10-03 01:00:00                  10.0                           4.0   \n",
       "2012-10-03 02:00:00                   2.0                           1.0   \n",
       "2012-10-03 03:00:00                   5.0                           2.0   \n",
       "2012-10-03 04:00:00                   7.0                           6.0   \n",
       "\n",
       "                     Fremont Bridge West Sidewalk  \n",
       "Date                                               \n",
       "2012-10-03 00:00:00                           9.0  \n",
       "2012-10-03 01:00:00                           6.0  \n",
       "2012-10-03 02:00:00                           1.0  \n",
       "2012-10-03 03:00:00                           3.0  \n",
       "2012-10-03 04:00:00                           1.0  "
      ]
     },
     "execution_count": 33,
     "metadata": {},
     "output_type": "execute_result"
    }
   ],
   "source": [
    "import pandas as pd\n",
    "data = pd.read_csv('.\\data\\Fremont_Bridge_Bicycle.csv', index_col='Date', parse_dates=True)\n",
    "data.head()"
   ]
  },
  {
   "cell_type": "code",
   "execution_count": 34,
   "metadata": {},
   "outputs": [],
   "source": [
    "# data.columns = ['Total', 'East', 'West']\n",
    "# data.head()\n",
    "# data.to_csv('.\\data\\Fremont_Bicycle.csv')"
   ]
  },
  {
   "cell_type": "markdown",
   "metadata": {},
   "source": [
    "【例9-29】 利用时序图检验稳定性"
   ]
  },
  {
   "cell_type": "code",
   "execution_count": 39,
   "metadata": {},
   "outputs": [
    {
     "data": {
      "text/plain": [
       "[<matplotlib.lines.Line2D at 0x2cd2a988c88>]"
      ]
     },
     "execution_count": 39,
     "metadata": {},
     "output_type": "execute_result"
    },
    {
     "data": {
      "image/png": "[encoded data removed]",
      "text/plain": [
       "<Figure size 1200x600 with 1 Axes>"
      ]
     },
     "metadata": {
      "needs_background": "light"
     },
     "output_type": "display_data"
    }
   ],
   "source": [
    "import pandas as pd\n",
    "import matplotlib.pyplot as plt\n",
    "# import matplotlib.dates as mdates\n",
    "# from statsmodels.graphics.tsaplots import plot_acf\n",
    "data = pd.read_excel('.\\data\\Bike_count.xls', index_col='Date', parse_dates=True)\n",
    "fig = plt.figure(figsize=(12,6), dpi=100)\n",
    "# ax = fig.add_subplot(111)\n",
    "from matplotlib.dates import DateFormatter\n",
    "plt.gca().xaxis.set_major_formatter(DateFormatter('%m-%d-%H'))\n",
    "# #自动旋转X轴的刻度，适应坐标轴\n",
    "# plt.gcf().autofmt_xdate()\n",
    "# ax.xaxis.set_major_formatter(mdates.DateFormatter('%H:%M'))\n",
    "plt.xticks(pd.date_range(data.index[0],data.index[-1],freq='3H'), rotation=45)\n",
    "plt.plot(data['Total'])\n",
    "\n"
   ]
  },
  {
   "cell_type": "code",
   "execution_count": 36,
   "metadata": {},
   "outputs": [],
   "source": [
    "# data.index"
   ]
  },
  {
   "cell_type": "markdown",
   "metadata": {},
   "source": [
    "【例9-30】利用自相关图检验平稳性"
   ]
  },
  {
   "cell_type": "code",
   "execution_count": 37,
   "metadata": {},
   "outputs": [
    {
     "data": {
      "text/plain": [
       "Text(0, 0.5, '自相关系数')"
      ]
     },
     "execution_count": 37,
     "metadata": {},
     "output_type": "execute_result"
    },
    {
     "data": {
      "image/png": "[encoded data removed]",
      "text/plain": [
       "<Figure size 432x288 with 1 Axes>"
      ]
     },
     "metadata": {
      "needs_background": "light"
     },
     "output_type": "display_data"
    }
   ],
   "source": [
    "from statsmodels.graphics.tsaplots import plot_acf\n",
    "plt.rcParams['font.family'] = ['SimHei']\n",
    "plt.rcParams['axes.unicode_minus'] = False\n",
    "plot_acf(data.Total) #生成自相关图\n",
    "plt.xlabel('延迟期数')\n",
    "plt.ylabel('自相关系数')"
   ]
  },
  {
   "cell_type": "markdown",
   "metadata": {},
   "source": [
    "利用ADF方法检验"
   ]
  },
  {
   "cell_type": "markdown",
   "metadata": {},
   "source": [
    "前面两种方法都是作图，图的特点是比较直观，但不够精确，而ADF法则是直接通过假设检验的方式来验证平稳性。ADF（全称Augmented Dickey-Fuller）是一种单位根检验方法，单位根检验方法比较多，而ADF法是比较常用的一种，其和普通的假设检验没有太大区别，都是列出原假设和备择假设。ADF的原假设（H0）和备择假设（H1）如下。\n",
    "H0：具有单位根，属于非平稳序列。\n",
    "H1：没有单位根，属于平稳序列，说明这个序列不具有时间依赖型结构。\n",
    "下面我们就用python代码来解释一下ADF的用法。"
   ]
  },
  {
   "cell_type": "code",
   "execution_count": 38,
   "metadata": {},
   "outputs": [
    {
     "name": "stdout",
     "output_type": "stream",
     "text": [
      "The ADF Statistic of data: -4.210246\n",
      "The p value of data: 0.000633\n"
     ]
    }
   ],
   "source": [
    "from statsmodels.tsa.stattools import adfuller\n",
    "data_result = adfuller(data.Total) #生成adf检验结果\n",
    "\n",
    "print('The ADF Statistic of data: %f' % data_result[0])\n",
    "print('The p value of data: %f' % data_result[1])\n"
   ]
  }
 ],
 "metadata": {
  "kernelspec": {
   "display_name": "Python 3",
   "language": "python",
   "name": "python3"
  },
  "language_info": {
   "codemirror_mode": {
    "name": "ipython",
    "version": 3
   },
   "file_extension": ".py",
   "mimetype": "text/x-python",
   "name": "python",
   "nbconvert_exporter": "python",
   "pygments_lexer": "ipython3",
   "version": "3.7.4"
  },
  "toc": {
   "base_numbering": 1,
   "nav_menu": {},
   "number_sections": true,
   "sideBar": true,
   "skip_h1_title": false,
   "title_cell": "Table of Contents",
   "title_sidebar": "Contents",
   "toc_cell": false,
   "toc_position": {},
   "toc_section_display": true,
   "toc_window_display": false
  }
 },
 "nbformat": 4,
 "nbformat_minor": 2
}
