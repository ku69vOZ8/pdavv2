{
 "cells": [
  {
   "cell_type": "markdown",
   "metadata": {},
   "source": [
    "【例12-1】打开图像并显示，然后键入‘esc’退出，如键入‘s’时保存图像退出。"
   ]
  },
  {
   "cell_type": "code",
   "execution_count": 1,
   "metadata": {},
   "outputs": [],
   "source": [
    "import cv2 as cv \n",
    "from matplotlib import pyplot as plt\n",
    "img = cv.imread(\"images\\lena.jpg\",cv.COLOR_BGR2GRAY)\n",
    "cv.imshow('Lean',img)\n",
    "k = cv.waitKey()\n",
    "if k == 27:  \n",
    "        cv.destroyAllWindows()\n",
    "else: \n",
    "    cv.imwrite('image\\newLena.jpg',img)\n",
    "    cv.destroyAllWindows()\n"
   ]
  },
  {
   "cell_type": "markdown",
   "metadata": {},
   "source": [
    "【例12-2】图像大小显示。"
   ]
  },
  {
   "cell_type": "code",
   "execution_count": 2,
   "metadata": {},
   "outputs": [
    {
     "name": "stdout",
     "output_type": "stream",
     "text": [
      "(256, 256, 3)\n",
      "196608\n"
     ]
    }
   ],
   "source": [
    "print(img.shape)\n",
    "print(img.size)\n"
   ]
  },
  {
   "cell_type": "markdown",
   "metadata": {},
   "source": [
    "【例12-3】图像的文本标注。"
   ]
  },
  {
   "cell_type": "code",
   "execution_count": 3,
   "metadata": {},
   "outputs": [],
   "source": [
    "import cv2 as cv \n",
    "img = cv.imread('images\\lena.jpg',cv.IMREAD_GRAYSCALE) \n",
    "cv.namedWindow('Hello,Lena', cv.WINDOW_AUTOSIZE)\n",
    "w,h=img.shape \n",
    "x = w // 3 # y position of the text\n",
    "y = h // 3 # x position of the text \n",
    "cv.putText(img,'Hello,Lena!',(x,y),cv.FONT_HERSHEY_SIMPLEX,0.8,(255,0,0),1)\n",
    "cv.imshow('Lean',img) #Show the image \n",
    "cv.waitKey(0)\n",
    "cv.destroyAllWindows()\n"
   ]
  },
  {
   "cell_type": "markdown",
   "metadata": {},
   "source": [
    "【例12-4】图像缩放。"
   ]
  },
  {
   "cell_type": "code",
   "execution_count": null,
   "metadata": {},
   "outputs": [],
   "source": [
    "import cv2 as cv \n",
    "import matplotlib.pyplot as plt\n",
    "img = cv.imread('images\\lena.jpg',cv.COLOR_BGR2GRAY) \n",
    "width,height,channel = img.shape\n",
    "b,g,r = cv.split(img)\n",
    "src = cv.merge([r, g, b])\n",
    "res = cv.resize(src,(2*width,2*height),interpolation = cv.INTER_CUBIC)\n",
    "plt.subplot(121)\n",
    "plt.imshow(src)\n",
    "plt.axis('off')\n",
    "plt.subplot(122)\n",
    "plt.imshow(res)\n",
    "plt.axis('off')\n",
    "# cv.waitKey(0)\n",
    "# cv.destroyAllWindows()\n"
   ]
  },
  {
   "cell_type": "markdown",
   "metadata": {},
   "source": [
    "【例12-5】图像旋转。"
   ]
  },
  {
   "cell_type": "code",
   "execution_count": null,
   "metadata": {},
   "outputs": [],
   "source": [
    "img = cv.imread('images\\lena.jpg',cv.IMREAD_COLOR)\n",
    "rows,cols,ch = img.shape\n",
    "b,g,r = cv.split(img)\n",
    "src = cv.merge([r, g, b]) \n",
    "M = cv.getRotationMatrix2D((cols/2,rows/2),45,1)\n",
    "dst = cv.warpAffine(src,M,(cols,rows))\n",
    "plt.subplot(121)\n",
    "plt.imshow(src)\n",
    "plt.axis('off')\n",
    "plt.subplot(122)\n",
    "plt.imshow(dst)\n",
    "plt.axis('off')\n"
   ]
  },
  {
   "cell_type": "markdown",
   "metadata": {},
   "source": [
    "【例12-6】图像的仿射变换。"
   ]
  },
  {
   "cell_type": "code",
   "execution_count": null,
   "metadata": {},
   "outputs": [],
   "source": [
    "import numpy as np\n",
    "img = cv.imread('images\\lena.jpg',cv.COLOR_BGR2GRAY) \n",
    "rows,cols,ch = img.shape\n",
    "b,g,r = cv.split(img)\n",
    "img = cv.merge([r, g, b])\n",
    "pts1 = np.float32([[50,50],[200,50],[50,200]])\n",
    "pts2 = np.float32([[10,100],[200,50],[100,250]])\n",
    "M = cv.getAffineTransform(pts1,pts2)\n",
    "dst = cv.warpAffine(img,M,(cols,rows))\n",
    "plt.subplot(121)\n",
    "plt.imshow(img)\n",
    "plt.title('Input')\n",
    "plt.axis('off')\n",
    "plt.subplot(122)\n",
    "plt.imshow(dst)\n",
    "plt.title('Output')\n",
    "# plt.show()\n",
    "plt.axis('off')\n"
   ]
  },
  {
   "cell_type": "markdown",
   "metadata": {},
   "source": [
    "【例12-7】图像的阈值分割。"
   ]
  },
  {
   "cell_type": "code",
   "execution_count": null,
   "metadata": {},
   "outputs": [],
   "source": [
    "src = cv.imread('images\\lena.jpg',cv.COLOR_BGR2GRAY)  \n",
    "gray = cv.cvtColor(src, cv.COLOR_BGR2GRAY)\n",
    "cv.imshow('input',gray)\n",
    "h, w = gray.shape[:2]\n",
    "m = np.reshape(gray, [1, w*h])#化为一维数组\n",
    "mean = m.sum() / (w*h)\n",
    "print(\"mean: \", mean)\n",
    "ret, binary = cv.threshold(gray, mean, 255, cv.THRESH_BINARY)\n",
    "cv.imshow('Binary',binary)\n",
    "cv.waitKey(0)\n",
    "cv.destroyAllWindows()\n"
   ]
  },
  {
   "cell_type": "markdown",
   "metadata": {},
   "source": [
    "【例12-8】图像的SIFT特征提取。"
   ]
  },
  {
   "cell_type": "code",
   "execution_count": null,
   "metadata": {},
   "outputs": [],
   "source": [
    "import cv2 as cv\n",
    "from matplotlib import pyplot as plt\n",
    "import numpy as np\n",
    "img = cv.imread('images\\lena.jpg',cv.IMREAD_COLOR)\n",
    "cv.imshow('Lean',img)\n",
    "gray = cv.cvtColor(img, cv.COLOR_BGR2GRAY)\n",
    "sift = cv.xfeatures2d.SIFT_create() \n",
    "kp = sift.detect(gray, None)# 找出关键点\n",
    "ret = cv.drawKeypoints(gray, kp, img) \n",
    "cv.imshow('SIFTKeyPint', ret)\n",
    "cv.waitKey(0)\n",
    "cv.destroyAllWindows()\n",
    "kp, des = sift.compute(gray, kp) # 使用关键点找出sift特征向量 \n",
    "print('特征点个数：',np.shape(kp)) \n",
    "print('特征向量维度：\\n',np.shape(des))\n",
    "print('第一个关键点特征：\\n',des[0])\n"
   ]
  },
  {
   "cell_type": "markdown",
   "metadata": {},
   "source": [
    "【例12-9】图像的SURF特征提取。"
   ]
  },
  {
   "cell_type": "code",
   "execution_count": null,
   "metadata": {},
   "outputs": [],
   "source": [
    "import cv2 as cv\n",
    "import numpy as np \n",
    " \n",
    "img = cv.imread('images\\lena_color_512.tif',cv.IMREAD_COLOR)\n",
    "cv.imshow('Lean',img) \n",
    "#参数为hessian矩阵的阈值\n",
    "surf = cv.xfeatures2d.SURF_create(500) \n",
    "#设置是否要检测方向\n",
    "surf.setUpright(True) \n",
    "#输出设置值\n",
    "print(surf.getUpright()) \n",
    "#找到关键点和描述符\n",
    "key_query,desc_query = surf.detectAndCompute(img,None) \n",
    "img=cv.drawKeypoints(img,key_query,img) \n",
    "#输出描述符的个数\n",
    "print(surf.descriptorSize()) \n",
    "cv.imshow('SURF',img)\n",
    "cv.waitKey(0)\n"
   ]
  },
  {
   "cell_type": "markdown",
   "metadata": {},
   "source": [
    "【例12-10】图像的去噪。"
   ]
  },
  {
   "cell_type": "code",
   "execution_count": null,
   "metadata": {},
   "outputs": [],
   "source": [
    "import cv2 as cv\n",
    "import numpy as np \n",
    "\n",
    "img = cv.imread('images\\lena.jpg',cv.IMREAD_COLOR)\n",
    "cv.imshow('Lean',img) \n",
    "\n",
    "Z = img.reshape((-1, 3))\n",
    "np.random.seed(59)\n",
    "noise = np.random.random(Z.shape) < 0.99\n",
    "noisy = (Z * noise).reshape((img.shape))\n",
    "\n",
    "cv.imshow('noise Lena',noisy)\n",
    "cleaned = cv.fastNlMeansDenoisingColored(noisy, None, 10, 7, 7, 21)\n",
    "cv.imshow('Denoised Lena',cleaned)\n",
    "cv.waitKey()\n",
    "cv.destroyAllWindows()"
   ]
  },
  {
   "cell_type": "code",
   "execution_count": null,
   "metadata": {},
   "outputs": [],
   "source": [
    "\n"
   ]
  }
 ],
 "metadata": {
  "kernelspec": {
   "display_name": "Python 3",
   "language": "python",
   "name": "python3"
  },
  "language_info": {
   "codemirror_mode": {
    "name": "ipython",
    "version": 3
   },
   "file_extension": ".py",
   "mimetype": "text/x-python",
   "name": "python",
   "nbconvert_exporter": "python",
   "pygments_lexer": "ipython3",
   "version": "3.7.4"
  },
  "toc": {
   "base_numbering": 1,
   "nav_menu": {},
   "number_sections": true,
   "sideBar": true,
   "skip_h1_title": false,
   "title_cell": "Table of Contents",
   "title_sidebar": "Contents",
   "toc_cell": false,
   "toc_position": {},
   "toc_section_display": true,
   "toc_window_display": false
  }
 },
 "nbformat": 4,
 "nbformat_minor": 2
}
