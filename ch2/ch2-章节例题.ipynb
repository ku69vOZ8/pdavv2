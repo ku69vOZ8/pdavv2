{
 "cells": [
  {
   "cell_type": "markdown",
   "metadata": {},
   "source": [
    "<font size=5 color=red >第2章例题代码  </font>"
   ]
  },
  {
   "cell_type": "code",
   "execution_count": 1,
   "metadata": {},
   "outputs": [
    {
     "name": "stdout",
     "output_type": "stream",
     "text": [
      "2\n"
     ]
    }
   ],
   "source": [
    "a=2\n",
    "print(a)"
   ]
  },
  {
   "cell_type": "code",
   "execution_count": 2,
   "metadata": {},
   "outputs": [],
   "source": [
    "a,b=1,'2'"
   ]
  },
  {
   "cell_type": "markdown",
   "metadata": {},
   "source": [
    "【例2-1】Python程序示例"
   ]
  },
  {
   "cell_type": "code",
   "execution_count": 3,
   "metadata": {},
   "outputs": [
    {
     "name": "stdout",
     "output_type": "stream",
     "text": [
      "sorry,\n",
      "it's False\n"
     ]
    }
   ],
   "source": [
    "answer = int(input(\"请输入一个整数：\"))\n",
    "if answer == 2:\n",
    "    print (\"hello,\")\n",
    "    print (\"it's True\")\n",
    "else:\n",
    "    print (\"sorry,\")\n",
    "    print (\"it's False\") "
   ]
  },
  {
   "cell_type": "markdown",
   "metadata": {},
   "source": [
    "【例2-2】多变量赋值示例。"
   ]
  },
  {
   "cell_type": "code",
   "execution_count": 4,
   "metadata": {},
   "outputs": [
    {
     "name": "stdout",
     "output_type": "stream",
     "text": [
      "Google 100 123.45\n"
     ]
    }
   ],
   "source": [
    "brower, count, addsum = 'Google', 100, 123.45\n",
    "print(brower, count, addsum)\n"
   ]
  },
  {
   "cell_type": "markdown",
   "metadata": {},
   "source": [
    "【例2-3】转义字符的使用。"
   ]
  },
  {
   "cell_type": "code",
   "execution_count": 5,
   "metadata": {},
   "outputs": [
    {
     "name": "stdout",
     "output_type": "stream",
     "text": [
      "python\n",
      "program\n",
      "python\\nprogram\n"
     ]
    }
   ],
   "source": [
    "print(\"python\\nprogram\")\n",
    "print(r\"python\\nprogram\")"
   ]
  },
  {
   "cell_type": "markdown",
   "metadata": {},
   "source": [
    "【例2-4】判断一个学生的考试成绩是否及格：如果成绩大于等于60分，则打印“及格”，否则输出“不及格”。"
   ]
  },
  {
   "cell_type": "code",
   "execution_count": 6,
   "metadata": {},
   "outputs": [
    {
     "name": "stdout",
     "output_type": "stream",
     "text": [
      "及格\n"
     ]
    }
   ],
   "source": [
    "score = float(input(\"请输入成绩：\"))\n",
    "if score>=60:\n",
    "    print(\"及格\")\n",
    "else:\n",
    "    print(\"不及格\")\n"
   ]
  },
  {
   "cell_type": "markdown",
   "metadata": {},
   "source": [
    "【例2-5】将化学分子式翻译为其表示物质对应的英文。"
   ]
  },
  {
   "cell_type": "code",
   "execution_count": 7,
   "metadata": {},
   "outputs": [
    {
     "name": "stdout",
     "output_type": "stream",
     "text": [
      "no exist\n"
     ]
    }
   ],
   "source": [
    "compound = input(\"请输入化学分子式：\")\n",
    "if compound == \"H2O\":\n",
    "    print(\"water\")\n",
    "elif compound == \"NH3\":\n",
    "    print(\"ammonia\")\n",
    "elif compound == \"CH4\":\n",
    "    print(\"methone\")\n",
    "else:\n",
    "    print(\"no exist\")\n"
   ]
  },
  {
   "cell_type": "markdown",
   "metadata": {},
   "source": [
    "【例2-6】求1+2+3+4+5的值。"
   ]
  },
  {
   "cell_type": "code",
   "execution_count": 8,
   "metadata": {},
   "outputs": [
    {
     "name": "stdout",
     "output_type": "stream",
     "text": [
      "sum is 15.\n"
     ]
    }
   ],
   "source": [
    "sum = 0\n",
    "i = 1\n",
    "while i<6:\n",
    "    sum = sum+i\n",
    "    i = i+1\n",
    "print(\"sum is %d.\" %sum)"
   ]
  },
  {
   "cell_type": "markdown",
   "metadata": {},
   "source": [
    "【例2-7】输出20以内能被3整除的数。"
   ]
  },
  {
   "cell_type": "code",
   "execution_count": 9,
   "metadata": {},
   "outputs": [
    {
     "name": "stdout",
     "output_type": "stream",
     "text": [
      "0 3 6 9 12 15 18 "
     ]
    }
   ],
   "source": [
    "i = 0\n",
    "while i < 20:\n",
    "    if i %3 ==0:\n",
    "        print(i,end = \" \")\n",
    "    i = i + 1"
   ]
  },
  {
   "cell_type": "markdown",
   "metadata": {},
   "source": [
    "【例2-8】求1+2+3+4+5的值。"
   ]
  },
  {
   "cell_type": "code",
   "execution_count": 10,
   "metadata": {},
   "outputs": [
    {
     "name": "stdout",
     "output_type": "stream",
     "text": [
      "1+2+3+4+5 = 15.\n"
     ]
    }
   ],
   "source": [
    "sum=0\n",
    "for i in range(1,6):\n",
    "    sum = sum+i\n",
    "print(\"1+2+3+4+5 = %d.\" %sum)"
   ]
  },
  {
   "cell_type": "markdown",
   "metadata": {},
   "source": [
    "【例2-9】将下面数组中的奇数变成它的平方，偶数保持不变。"
   ]
  },
  {
   "cell_type": "code",
   "execution_count": 11,
   "metadata": {},
   "outputs": [
    {
     "name": "stdout",
     "output_type": "stream",
     "text": [
      "原数据： [1, 2, 3, 4, 8, 7, 22, 33, 88]\n",
      "处理后： [1, 2, 9, 4, 8, 49, 22, 1089, 88]\n"
     ]
    }
   ],
   "source": [
    "x = [ 1,2,3,4,8,7, 22,33, 88]\n",
    "print(\"原数据：\",x)\n",
    "for i in range(len(x)):\n",
    "    if(x[i] % 2) !=0:   # 判读第 i 个元素是否为奇数\n",
    "        x[i] = x[i] * x[i]\n",
    "print(\"处理后：\",x)\n"
   ]
  },
  {
   "cell_type": "markdown",
   "metadata": {},
   "source": [
    "【例2-10】列表中追加元素。"
   ]
  },
  {
   "cell_type": "code",
   "execution_count": 12,
   "metadata": {},
   "outputs": [
    {
     "name": "stdout",
     "output_type": "stream",
     "text": [
      "更新后的列表 :  ['a', 'b', 'c', 'd', 'Baidu']\n"
     ]
    }
   ],
   "source": [
    "list = ['a', 'b', 'c', 'd']\n",
    "list.append('Baidu')\n",
    "print (\"更新后的列表 : \", list)"
   ]
  },
  {
   "cell_type": "markdown",
   "metadata": {},
   "source": [
    "【例2-11】列表中插入元素。"
   ]
  },
  {
   "cell_type": "code",
   "execution_count": 13,
   "metadata": {},
   "outputs": [
    {
     "name": "stdout",
     "output_type": "stream",
     "text": [
      "列表插入元素后为 :  ['a', 'Baidu', 'b', 'c', 'd']\n"
     ]
    }
   ],
   "source": [
    "list = ['a', 'b', 'c', 'd']\n",
    "list.insert(1, 'Baidu')\n",
    "print ('列表插入元素后为 : ', list)"
   ]
  },
  {
   "cell_type": "markdown",
   "metadata": {},
   "source": [
    "【例2-12】返回中第一个指定值的索引。"
   ]
  },
  {
   "cell_type": "code",
   "execution_count": 14,
   "metadata": {},
   "outputs": [
    {
     "name": "stdout",
     "output_type": "stream",
     "text": [
      "b索引值为 1\n"
     ]
    }
   ],
   "source": [
    "list = ['a', 'b', 'c', 'd']\n",
    "print ('b索引值为', list.index('b'))"
   ]
  },
  {
   "cell_type": "markdown",
   "metadata": {},
   "source": [
    "【例2-13】删除列表中第一次找到的数值。"
   ]
  },
  {
   "cell_type": "code",
   "execution_count": 15,
   "metadata": {},
   "outputs": [
    {
     "name": "stdout",
     "output_type": "stream",
     "text": [
      "列表现在为 :  ['a', 'b', 'c']\n"
     ]
    }
   ],
   "source": [
    "list = ['a', 'b', 'c', 'd']\n",
    "list. remove('d')\n",
    "print (\"列表现在为 : \", list)"
   ]
  },
  {
   "cell_type": "markdown",
   "metadata": {},
   "source": [
    "【例2-14】删除列表中的指定元素。"
   ]
  },
  {
   "cell_type": "code",
   "execution_count": 16,
   "metadata": {},
   "outputs": [
    {
     "name": "stdout",
     "output_type": "stream",
     "text": [
      "删除 'd' 后的列表为 ['a', 'b', 'c'] : \n",
      "删除元素为 :  b\n"
     ]
    }
   ],
   "source": [
    "list = ['a', 'b', 'c', 'd']\n",
    "p = list. pop()\n",
    "print (\"删除 %r 后的列表为 %r : \" % (p, list))\n",
    "print (\"删除元素为 : \", list.pop(1))"
   ]
  },
  {
   "cell_type": "markdown",
   "metadata": {},
   "source": [
    "【例2-15】列表元素倒排。"
   ]
  },
  {
   "cell_type": "code",
   "execution_count": 17,
   "metadata": {},
   "outputs": [
    {
     "data": {
      "text/plain": [
       "['d', 'c', 'b', 'a']"
      ]
     },
     "execution_count": 17,
     "metadata": {},
     "output_type": "execute_result"
    }
   ],
   "source": [
    "list = ['a', 'b', 'c', 'd']\n",
    "list.reverse()\n",
    "list"
   ]
  },
  {
   "cell_type": "markdown",
   "metadata": {},
   "source": [
    "【例2-16】返回列表中指定数组的出现次数。"
   ]
  },
  {
   "cell_type": "code",
   "execution_count": 18,
   "metadata": {},
   "outputs": [
    {
     "name": "stdout",
     "output_type": "stream",
     "text": [
      "c的出现次数是 :  3\n",
      "list中一共有 3 个 a : \n"
     ]
    }
   ],
   "source": [
    "list = ['a', 'b', 'c', 'd','a', 'b', 'c', 'a','c']\n",
    "print (\"c的出现次数是 : \", list.count(\"c\"))\n",
    "print (\"list中一共有 %d 个 a : \" % list.count('a'))"
   ]
  },
  {
   "cell_type": "markdown",
   "metadata": {},
   "source": [
    "【例2-17】列表元素排序。"
   ]
  },
  {
   "cell_type": "code",
   "execution_count": 19,
   "metadata": {},
   "outputs": [
    {
     "data": {
      "text/plain": [
       "['d', 'c', 'b', 'a']"
      ]
     },
     "execution_count": 19,
     "metadata": {},
     "output_type": "execute_result"
    }
   ],
   "source": [
    "list = ['a', 'b', 'c', 'd']\n",
    "list.sort(reverse=True)\n",
    "list"
   ]
  },
  {
   "cell_type": "markdown",
   "metadata": {},
   "source": [
    "【例2-18】列表推导式示例。"
   ]
  },
  {
   "cell_type": "code",
   "execution_count": 20,
   "metadata": {},
   "outputs": [
    {
     "name": "stdout",
     "output_type": "stream",
     "text": [
      "[6, 12, 18, 24, 30]\n",
      "[24, 30]\n",
      "[8, 6, 16, 12, 24, 18]\n"
     ]
    }
   ],
   "source": [
    "vec = [2, 4, 6, 8, 10]\n",
    "print([3*x for x in vec])\n",
    "vec = [2, 4, 6,8,10]\n",
    "print([3*x  for  x  in  vec  if x > 6])\n",
    "vec1 = [2, 4, 6]\n",
    "vec2 = [4, 3, -9]\n",
    "print([x*y for x in vec1 for y in vec2 if x*y>0])"
   ]
  },
  {
   "cell_type": "markdown",
   "metadata": {},
   "source": [
    "【例2-19】随机生成30个整数构成列表，并计算列表均值，然后利用列表中每个元素逐个减去均值所得的数值重新构建列表。"
   ]
  },
  {
   "cell_type": "code",
   "execution_count": 21,
   "metadata": {},
   "outputs": [
    {
     "name": "stdout",
     "output_type": "stream",
     "text": [
      "列表： [134, 111, 85, 50, 63, 23, 139, 45, 36, 25, 106, 70, 9, 10, 96, 36, 71, 70, 67, 49, 138, 36, 59, 13, 89, 25, 91, 141, 135, 33]\n",
      "新列表: [66, 43, 17, -18, -5, -45, 71, -23, -32, -43, 38, 2, -59, -58, 28, -32, 3, 2, -1, -19, 70, -32, -9, -55, 21, -43, 23, 73, 67, -35]\n"
     ]
    }
   ],
   "source": [
    "import random\n",
    "total = []\n",
    "for i in range(30):\n",
    "    total.append(random.randint(1,150))\n",
    "print(\"列表：\", total)\n",
    "sum = 0\n",
    "for item in total:\n",
    "    sum = sum + item\n",
    "total_m = sum//len(total)\n",
    "print(\"新列表:\", [x-total_m for x in total])"
   ]
  },
  {
   "cell_type": "markdown",
   "metadata": {},
   "source": [
    "【例2-20】计算矩阵的转置矩阵。"
   ]
  },
  {
   "cell_type": "code",
   "execution_count": 22,
   "metadata": {},
   "outputs": [
    {
     "name": "stdout",
     "output_type": "stream",
     "text": [
      "原矩阵： [[1, 2, 3, 4], [5, 6, 7, 8], [9, 10, 11, 12]]\n",
      "转置矩阵为: [[1, 5, 9], [2, 6, 10], [3, 7, 11], [4, 8, 12]]\n"
     ]
    }
   ],
   "source": [
    "matrix = [[1, 2, 3, 4],[5, 6, 7, 8],[9, 10, 11, 12]]\n",
    "print(\"原矩阵：\",matrix)\n",
    "print(\"转置矩阵为:\",[[row[i] for row in matrix] for i in range(4)])"
   ]
  },
  {
   "cell_type": "markdown",
   "metadata": {},
   "source": [
    "【例2-21】元组的创建。"
   ]
  },
  {
   "cell_type": "code",
   "execution_count": 23,
   "metadata": {},
   "outputs": [
    {
     "name": "stdout",
     "output_type": "stream",
     "text": [
      "输出元组tup： ('b', 'a', 'r')\n",
      "输出元组tup： ((4, 5, 6), (7, 8))\n",
      "元组的连接 ('b', 'a', 'r', 'w', 'w', 'y')\n",
      "b a r\n",
      "1\n"
     ]
    }
   ],
   "source": [
    "tup=tuple('bar')  #创建元组\n",
    "print('输出元组tup：',tup)  #输出元组\n",
    "nested_tup=(4,5,6),(7,8)\n",
    "print('输出元组tup：',nested_tup)  #输出元素是元组的元组\n",
    "print('元组的连接',tup+tuple('wwy'))\n",
    "a,b,c=tup  #元组的拆分\n",
    "print(a,b,c)\n",
    "print(tup.count(a)) # 统计某个数值在元祖中出现的次数\n"
   ]
  },
  {
   "cell_type": "markdown",
   "metadata": {},
   "source": [
    "【例2-22】字典应用示例。"
   ]
  },
  {
   "cell_type": "code",
   "execution_count": 24,
   "metadata": {},
   "outputs": [
    {
     "name": "stdout",
     "output_type": "stream",
     "text": [
      "keys: dict_keys(['Newton', 'Darwin', 'Turing'])\n",
      "values: dict_values([1642, 1809, 1912])\n",
      "items: dict_items([('Newton', 1642), ('Darwin', 1809), ('Turing', 1912)])\n",
      "get: 1867\n",
      "after update: {'Newton': 1642, 'Darwin': 1809, 'Turing': 1912, 'Curie': 1867, 'Hopper': 1906, 'Franklin': 1920}\n",
      "after clear: {}\n"
     ]
    }
   ],
   "source": [
    "scientists = {'Newton' : 1642, 'Darwin' : 1809, 'Turing' : 1912}\n",
    "print('keys:', scientists.keys())  #返回字典中的所有键\n",
    "print('values:', scientists.values()) #返回字典中的所有值\n",
    "print('items:', scientists.items()) #返回所有键值对，形式(键, 值)\n",
    "print('get:', scientists.get('Curie', 1867))  # get方法\n",
    "temp = {'Curie' : 1867, 'Hopper' : 1906, 'Franklin' : 1920}\n",
    "scientists.update(temp)  #用字典temp更新字典scientists\n",
    "print('after update:', scientists)\n",
    "scientists.clear()# 清空字典\n",
    "print('after clear:', scientists)\n"
   ]
  },
  {
   "cell_type": "markdown",
   "metadata": {},
   "source": [
    "【例2-23】集合用法示例。"
   ]
  },
  {
   "cell_type": "code",
   "execution_count": 25,
   "metadata": {},
   "outputs": [
    {
     "name": "stdout",
     "output_type": "stream",
     "text": [
      "False\n",
      "{0, 1, 2, 3, 4, 5, 7, 9}\n",
      "{9, 5, 7}\n",
      "False\n"
     ]
    }
   ],
   "source": [
    "set1 = set([0,1,2,3,4])\n",
    "set2 = set([1,3,5,7,9])\n",
    "print(set1.issubset(set2))\n",
    "print(set1.union(set2))\n",
    "print(set2.difference(set1))\n",
    "print(set1.issubset(set2))\n"
   ]
  },
  {
   "cell_type": "markdown",
   "metadata": {},
   "source": [
    "【例2-24】编写函数计算n！。"
   ]
  },
  {
   "cell_type": "code",
   "execution_count": 26,
   "metadata": {},
   "outputs": [
    {
     "name": "stdout",
     "output_type": "stream",
     "text": [
      "12146304367025329675766243241881295855454217088483382315328918161829235892362167668831156960612640202170735835221294047782591091570411651472186029519906261646730733907419814952960000000000000000000000000000\n"
     ]
    }
   ],
   "source": [
    "def fact(n):\n",
    "    if n==1:\n",
    "        return 1\n",
    "    else:\n",
    "        f=1\n",
    "        i=2\n",
    "        while(i<=n):\n",
    "            f=f*i\n",
    "            i=i+1\n",
    "        return f\n",
    "num=eval(input('请输入一个整数：'))\n",
    "print(fact(abs(int(num))))\n",
    "\n"
   ]
  },
  {
   "cell_type": "markdown",
   "metadata": {},
   "source": [
    "【例2-25】假如要编写函数实现计算多项式1+2*x+y2+z*y的值，可以简单的定义一个lambda函数来完成这个功能。"
   ]
  },
  {
   "cell_type": "code",
   "execution_count": 27,
   "metadata": {},
   "outputs": [
    {
     "data": {
      "text/plain": [
       "13"
      ]
     },
     "execution_count": 27,
     "metadata": {},
     "output_type": "execute_result"
    }
   ],
   "source": [
    "polynominal = lambda x,y,z: 1+2*x+y**2+z*y\n",
    "polynominal(1,2,3)\n"
   ]
  },
  {
   "cell_type": "markdown",
   "metadata": {},
   "source": [
    "【例2-26】读取txt文件"
   ]
  },
  {
   "cell_type": "code",
   "execution_count": 28,
   "metadata": {},
   "outputs": [
    {
     "name": "stdout",
     "output_type": "stream",
     "text": [
      "#有这样一位诗人。他的诗，让世界上无数人，走出消极，甚至治愈了一个民族的痛。\n",
      "#他就是，诗人之王泰戈尔。\n",
      "#下面是泰戈尔的一些经典语录\n",
      "1. 生如夏花之绚烂，死如秋叶之静美。\n",
      "2. 眼睛为她下着雨，心却为她打着伞，这就是爱情。\n",
      "-\n",
      "3. 世界以痛吻我，要我报之以歌。\n",
      "###\n",
      "5. 当你为错过太阳而哭泣的时候，你也要再错过群星了。\n",
      "6. 我们把世界看错，反说它欺骗了我们。\n",
      "-\n",
      "7. 不要着急，最好的总会在最不经意的时候出现。\n"
     ]
    }
   ],
   "source": [
    "file = open(\"data//泰戈尔的诗.txt\",mode='r')\n",
    "content = file.read()\n",
    "print(content)\n",
    "file.close()\n"
   ]
  },
  {
   "cell_type": "markdown",
   "metadata": {},
   "source": [
    "【例2-27】读取txt文件时指定读取数量。"
   ]
  },
  {
   "cell_type": "code",
   "execution_count": 29,
   "metadata": {},
   "outputs": [
    {
     "name": "stdout",
     "output_type": "stream",
     "text": [
      "#有这样一位诗人。他\n",
      "<class 'str'>\n"
     ]
    }
   ],
   "source": [
    "f = open(\"data//泰戈尔的诗.txt\",mode='r')\n",
    "content = f.read(10)#设置读取内容的长度size\n",
    "print(content)\n",
    "f.close()\n",
    "print(type(content))\n"
   ]
  },
  {
   "cell_type": "markdown",
   "metadata": {},
   "source": [
    "【例2-28】按行读取txt文件。"
   ]
  },
  {
   "cell_type": "code",
   "execution_count": 30,
   "metadata": {},
   "outputs": [
    {
     "name": "stdout",
     "output_type": "stream",
     "text": [
      "['#有这样一位诗人。他的诗，让世界上无数人，走出消极，甚至治愈了一个民族的痛。\\n', '#他就是，诗人之王泰戈尔。\\n', '#下面是泰戈尔的一些经典语录\\n', '1. 生如夏花之绚烂，死如秋叶之静美。\\n', '2. 眼睛为她下着雨，心却为她打着伞，这就是爱情。\\n', '-\\n', '3. 世界以痛吻我，要我报之以歌。\\n', '###\\n', '5. 当你为错过太阳而哭泣的时候，你也要再错过群星了。\\n', '6. 我们把世界看错，反说它欺骗了我们。\\n', '-\\n', '7. 不要着急，最好的总会在最不经意的时候出现。']\n"
     ]
    }
   ],
   "source": [
    "f=open(\"data//泰戈尔的诗.txt\",mode='r')\n",
    "content=f.readlines()\n",
    "print(content)\n",
    "f.close()\n"
   ]
  },
  {
   "cell_type": "markdown",
   "metadata": {},
   "source": [
    "【例2-29】读取CSV文件。"
   ]
  },
  {
   "cell_type": "code",
   "execution_count": 31,
   "metadata": {},
   "outputs": [
    {
     "name": "stdout",
     "output_type": "stream",
     "text": [
      "['No.', 'Name', 'Age', 'Score']\n",
      "['1', 'mayi', '18', '99']\n",
      "['2', 'jack', '21', '89']\n",
      "['3', 'tom', '25', '95']\n",
      "['4', 'rain', '19', '80']\n"
     ]
    }
   ],
   "source": [
    "import csv\n",
    "with open(\"data//student.csv\", \"r\") as f:\n",
    "    reader = csv.reader(f)  \n",
    "    rows = [row for row in reader]\n",
    "for item in rows:\n",
    "    print(item) \n"
   ]
  },
  {
   "cell_type": "markdown",
   "metadata": {},
   "source": [
    "【例2-30】文件的写入。"
   ]
  },
  {
   "cell_type": "code",
   "execution_count": 32,
   "metadata": {},
   "outputs": [],
   "source": [
    "import csv\n",
    "content = [\n",
    "    ['5', 'hanmeimei', '23', '81'], \n",
    "    ['1', 'mayi', '18', '99'], \n",
    "    ['2', 'jack', '21', '89'] ]\n",
    "f = open(\"data//test.csv\", \"w\", newline=\"\")\n",
    "#如果不加newline=“”，就会出现空行\n",
    "content_out = csv.writer(f) #生成writer对象存储器\n",
    "for con in content:\n",
    "    content_out.writerow(con)\n",
    "f.close()"
   ]
  },
  {
   "cell_type": "markdown",
   "metadata": {},
   "source": [
    "【例2-31】跳过文件中的注释内容和缺失值。"
   ]
  },
  {
   "cell_type": "code",
   "execution_count": 33,
   "metadata": {},
   "outputs": [
    {
     "name": "stdout",
     "output_type": "stream",
     "text": [
      "1. 生如夏花之绚烂，死如秋叶之静美。\n",
      "2. 眼睛为她下着雨，心却为她打着伞，这就是爱情。\n",
      "3. 世界以痛吻我，要我报之以歌。\n",
      "5. 当你为错过太阳而哭泣的时候，你也要再错过群星了。\n",
      "6. 我们把世界看错，反说它欺骗了我们。\n",
      "7. 不要着急，最好的总会在最不经意的时候出现。\n"
     ]
    }
   ],
   "source": [
    "def skip_header(f):\n",
    "    line = f.readline()   \n",
    "    while line.startswith('#'):\n",
    "        line = f.readline() \n",
    "    return line\n",
    "def process_file(f):\n",
    "    #调用函数使其跳过文件头部\n",
    "    line = skip_header(f).strip()\n",
    "    print(line)  #打印第一行有用数据\n",
    "    for line in f:\n",
    "        if line.startswith(\"-\") or line.startswith(\"#\"):  #处理缺失值\n",
    "            line = f.readline()\n",
    "        line = line.strip()\n",
    "        print(line)\n",
    "input_file = open(\"data//泰戈尔的诗a.txt\", 'r')\n",
    "process_file(input_file)\n",
    "input_file.close()\n"
   ]
  },
  {
   "cell_type": "code",
   "execution_count": null,
   "metadata": {},
   "outputs": [],
   "source": []
  }
 ],
 "metadata": {
  "kernelspec": {
   "display_name": "Python 3",
   "language": "python",
   "name": "python3"
  },
  "language_info": {
   "codemirror_mode": {
    "name": "ipython",
    "version": 3
   },
   "file_extension": ".py",
   "mimetype": "text/x-python",
   "name": "python",
   "nbconvert_exporter": "python",
   "pygments_lexer": "ipython3",
   "version": "3.8.3"
  },
  "toc": {
   "base_numbering": 1,
   "nav_menu": {},
   "number_sections": true,
   "sideBar": true,
   "skip_h1_title": false,
   "title_cell": "Table of Contents",
   "title_sidebar": "Contents",
   "toc_cell": false,
   "toc_position": {},
   "toc_section_display": true,
   "toc_window_display": false
  }
 },
 "nbformat": 4,
 "nbformat_minor": 2
}
