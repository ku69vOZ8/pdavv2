{
 "cells": [
  {
   "cell_type": "markdown",
   "metadata": {},
   "source": [
    "【例3-1】创建ndarray数组。"
   ]
  },
  {
   "cell_type": "code",
   "execution_count": 1,
   "metadata": {},
   "outputs": [],
   "source": [
    "import numpy as np"
   ]
  },
  {
   "cell_type": "code",
   "execution_count": 2,
   "metadata": {},
   "outputs": [
    {
     "name": "stdout",
     "output_type": "stream",
     "text": [
      "w1: [1 3 5 7]\n",
      "w2: [2 4 6 8]\n",
      "w3: [[1 2 3 4]\n",
      " [5 6 7 8]]\n"
     ]
    }
   ],
   "source": [
    "\n",
    "data1=[1,3,5,7] #列表\n",
    "w1=np.array(data1)\n",
    "print('w1:',w1)\n",
    "data2=(2,4,6,8) #元组\n",
    "w2=np.array(data2)\n",
    "print('w2:',w2)\n",
    "data3=[[1,2,3,4],[5,6,7,8]] #多维数组\n",
    "w3=np.array(data3)\n",
    "print('w3:',w3)\n"
   ]
  },
  {
   "cell_type": "markdown",
   "metadata": {},
   "source": [
    "【例3-2】array函数中指定dtype。"
   ]
  },
  {
   "cell_type": "code",
   "execution_count": 3,
   "metadata": {},
   "outputs": [
    {
     "name": "stdout",
     "output_type": "stream",
     "text": [
      "float64\n"
     ]
    }
   ],
   "source": [
    "w3=np.array([1,2,3,4],dtype='float64')\n",
    "print(w3.dtype)\n"
   ]
  },
  {
   "cell_type": "markdown",
   "metadata": {},
   "source": [
    "【例3-3】利用arange创建数组。"
   ]
  },
  {
   "cell_type": "code",
   "execution_count": 4,
   "metadata": {},
   "outputs": [
    {
     "name": "stdout",
     "output_type": "stream",
     "text": [
      "[0 1 2 3 4 5 6 7 8 9]\n"
     ]
    }
   ],
   "source": [
    "warray=np.arange(10)\n",
    "print(warray)\n"
   ]
  },
  {
   "cell_type": "markdown",
   "metadata": {},
   "source": [
    "【例3-4】指定起始、终值的步长参数的arange。"
   ]
  },
  {
   "cell_type": "code",
   "execution_count": 5,
   "metadata": {},
   "outputs": [
    {
     "name": "stdout",
     "output_type": "stream",
     "text": [
      "[0.  0.2 0.4 0.6 0.8]\n"
     ]
    }
   ],
   "source": [
    "warray=np.arange(0,1,0.2)\n",
    "print(warray)\n"
   ]
  },
  {
   "cell_type": "markdown",
   "metadata": {},
   "source": [
    "【例3-5】利用linspace函数创建数组"
   ]
  },
  {
   "cell_type": "code",
   "execution_count": 6,
   "metadata": {},
   "outputs": [
    {
     "name": "stdout",
     "output_type": "stream",
     "text": [
      "[0.   0.25 0.5  0.75 1.  ]\n"
     ]
    }
   ],
   "source": [
    "warray = np.linspace(0,1,5)\n",
    "print(warray)\n"
   ]
  },
  {
   "cell_type": "markdown",
   "metadata": {},
   "source": [
    "【例3-6】利用logspace创建数组。"
   ]
  },
  {
   "cell_type": "code",
   "execution_count": 7,
   "metadata": {},
   "outputs": [
    {
     "name": "stdout",
     "output_type": "stream",
     "text": [
      "[0.   0.25 0.5  0.75 1.  ]\n"
     ]
    }
   ],
   "source": [
    "warray = np.linspace(0,1,5)\n",
    "print(warray)\n"
   ]
  },
  {
   "cell_type": "code",
   "execution_count": 8,
   "metadata": {},
   "outputs": [
    {
     "name": "stdout",
     "output_type": "stream",
     "text": [
      "[ 1.          1.77827941  3.16227766  5.62341325 10.        ]\n"
     ]
    }
   ],
   "source": [
    "warray = np.logspace(0,1,5) \n",
    "#生成1-10间的具有5个元素的等比数列\n",
    "print(warray)\n"
   ]
  },
  {
   "cell_type": "markdown",
   "metadata": {},
   "source": [
    "【例3-7】zeros函数创建全零矩阵。"
   ]
  },
  {
   "cell_type": "code",
   "execution_count": 9,
   "metadata": {},
   "outputs": [
    {
     "name": "stdout",
     "output_type": "stream",
     "text": [
      "一维数组： [0. 0. 0. 0.]\n",
      "而维数组： [[0. 0. 0.]\n",
      " [0. 0. 0.]\n",
      " [0. 0. 0.]]\n"
     ]
    }
   ],
   "source": [
    "print(\"一维数组：\",np.zeros(4))\n",
    "print(\"而维数组：\",np.zeros([3,3]))\n"
   ]
  },
  {
   "cell_type": "markdown",
   "metadata": {},
   "source": [
    "【例3-8】ones函数创建全1数组。"
   ]
  },
  {
   "cell_type": "code",
   "execution_count": 10,
   "metadata": {},
   "outputs": [
    {
     "name": "stdout",
     "output_type": "stream",
     "text": [
      "[1. 1. 1. 1. 1.]\n",
      "[[1. 1. 1.]\n",
      " [1. 1. 1.]]\n"
     ]
    }
   ],
   "source": [
    "print(np.ones(5))\n",
    "print(np.ones([2,3]))\n"
   ]
  },
  {
   "cell_type": "markdown",
   "metadata": {},
   "source": [
    "【例3-9】diag函数创建对角阵。"
   ]
  },
  {
   "cell_type": "code",
   "execution_count": 11,
   "metadata": {},
   "outputs": [
    {
     "name": "stdout",
     "output_type": "stream",
     "text": [
      "[[1 0 0 0]\n",
      " [0 2 0 0]\n",
      " [0 0 3 0]\n",
      " [0 0 0 4]]\n"
     ]
    }
   ],
   "source": [
    "print(np.diag([1,2,3,4]))"
   ]
  },
  {
   "cell_type": "code",
   "execution_count": 12,
   "metadata": {},
   "outputs": [
    {
     "name": "stdout",
     "output_type": "stream",
     "text": [
      "使用eye函数创建的数组为：\n",
      " [[1. 0. 0.]\n",
      " [0. 1. 0.]\n",
      " [0. 0. 1.]]\n"
     ]
    }
   ],
   "source": [
    "print('使用eye函数创建的数组为：\\n',np.eye(3))"
   ]
  },
  {
   "cell_type": "markdown",
   "metadata": {},
   "source": [
    "【例3-10】查看数组的属性。"
   ]
  },
  {
   "cell_type": "code",
   "execution_count": 13,
   "metadata": {},
   "outputs": [
    {
     "name": "stdout",
     "output_type": "stream",
     "text": [
      "秩为： 2\n",
      "形状为： (2, 3)\n",
      "元素个数为： 6\n"
     ]
    }
   ],
   "source": [
    "warray = np.array([[1,2,3],[4,5,6]])\n",
    "print('秩为：',warray.ndim)\n",
    "print('形状为：',warray.shape)\n",
    "print('元素个数为：',warray.size)\n"
   ]
  },
  {
   "cell_type": "markdown",
   "metadata": {},
   "source": [
    "【例3-11】设置数组的shape属性。"
   ]
  },
  {
   "cell_type": "code",
   "execution_count": 14,
   "metadata": {},
   "outputs": [
    {
     "name": "stdout",
     "output_type": "stream",
     "text": [
      "[[1 2]\n",
      " [3 4]\n",
      " [5 6]]\n"
     ]
    }
   ],
   "source": [
    "warray.shape = 3,2\n",
    "print(warray)\n"
   ]
  },
  {
   "cell_type": "markdown",
   "metadata": {},
   "source": [
    "【例3-12】数组的类型转换。"
   ]
  },
  {
   "cell_type": "code",
   "execution_count": 15,
   "metadata": {},
   "outputs": [
    {
     "name": "stdout",
     "output_type": "stream",
     "text": [
      "int32\n",
      "float64\n"
     ]
    }
   ],
   "source": [
    "arr1 = np.arange(6)\n",
    "print(arr1.dtype)\n",
    "arr2 = arr1.astype(np.float64)\n",
    "print(arr2.dtype)\n"
   ]
  },
  {
   "cell_type": "markdown",
   "metadata": {},
   "source": [
    "【例3-13】生成随机整数。"
   ]
  },
  {
   "cell_type": "code",
   "execution_count": 16,
   "metadata": {},
   "outputs": [
    {
     "name": "stdout",
     "output_type": "stream",
     "text": [
      "[[110 174 157 102]\n",
      " [172 100 102 139]]\n"
     ]
    }
   ],
   "source": [
    "arr = np.random.randint(100,200,size = (2,4))\n",
    "print(arr)\n"
   ]
  },
  {
   "cell_type": "markdown",
   "metadata": {},
   "source": [
    "【例3-14】生成[0,1]之间的随机数组。"
   ]
  },
  {
   "cell_type": "code",
   "execution_count": 17,
   "metadata": {},
   "outputs": [
    {
     "name": "stdout",
     "output_type": "stream",
     "text": [
      "[0.96789138 0.33075943 0.26242381 0.6600394  0.46229659]\n",
      "[[0.5990414  0.35926905]\n",
      " [0.44986037 0.25097046]\n",
      " [0.69300076 0.6991829 ]\n",
      " [0.97807338 0.23423321]]\n"
     ]
    }
   ],
   "source": [
    "arr1 = np.random.rand(5)\n",
    "print(arr1)\n",
    "arr2 = np.random.rand(4,2)\n",
    "print(arr2)\n"
   ]
  },
  {
   "cell_type": "markdown",
   "metadata": {},
   "source": [
    "【例3-15】改变数组维度。"
   ]
  },
  {
   "cell_type": "code",
   "execution_count": 18,
   "metadata": {},
   "outputs": [
    {
     "name": "stdout",
     "output_type": "stream",
     "text": [
      "[0 1 2 3 4 5 6 7]\n",
      "[0 1 2 3 4 5 6 7]\n"
     ]
    }
   ],
   "source": [
    "arr1 = np.arange(8)\n",
    "print(arr1)\n",
    "arr1.reshape(4,2)\n",
    "print(arr1)\n"
   ]
  },
  {
   "cell_type": "markdown",
   "metadata": {},
   "source": [
    "【例3-16】reshape的一个维度设置为-1。"
   ]
  },
  {
   "cell_type": "code",
   "execution_count": 19,
   "metadata": {},
   "outputs": [
    {
     "name": "stdout",
     "output_type": "stream",
     "text": [
      "arr1: [ 0  1  2  3  4  5  6  7  8  9 10 11]\n",
      "arr2: [[ 0  1  2  3  4  5]\n",
      " [ 6  7  8  9 10 11]]\n"
     ]
    }
   ],
   "source": [
    "arr1 = np.arange(12)\n",
    "print('arr1:',arr1)\n",
    "arr2 = arr1.reshape(2,-1)\n",
    "print('arr2:',arr2)\n"
   ]
  },
  {
   "cell_type": "markdown",
   "metadata": {},
   "source": [
    "【例3-17】数据散开。"
   ]
  },
  {
   "cell_type": "code",
   "execution_count": 20,
   "metadata": {},
   "outputs": [
    {
     "name": "stdout",
     "output_type": "stream",
     "text": [
      "arr1: [[ 0  1  2  3]\n",
      " [ 4  5  6  7]\n",
      " [ 8  9 10 11]]\n",
      "arr2: [ 0  1  2  3  4  5  6  7  8  9 10 11]\n"
     ]
    }
   ],
   "source": [
    "arr1 = np.arange(12).reshape(3,4)\n",
    "print('arr1:',arr1)\n",
    "arr2 = arr1.ravel()\n",
    "print('arr2:',arr2)\n"
   ]
  },
  {
   "cell_type": "markdown",
   "metadata": {},
   "source": [
    "【例3-18】两个数组的横向组合。"
   ]
  },
  {
   "cell_type": "code",
   "execution_count": 21,
   "metadata": {},
   "outputs": [
    {
     "name": "stdout",
     "output_type": "stream",
     "text": [
      "[[ 0  1  0  2]\n",
      " [ 2  3  4  6]\n",
      " [ 4  5  8 10]]\n"
     ]
    }
   ],
   "source": [
    "arr1 = np.arange(6).reshape(3,2)\n",
    "arr2 = arr1*2\n",
    "arr3 = np.hstack((arr1,arr2))\n",
    "print(arr3)\n"
   ]
  },
  {
   "cell_type": "markdown",
   "metadata": {},
   "source": [
    "【例3-19】数组纵向合并。"
   ]
  },
  {
   "cell_type": "code",
   "execution_count": 22,
   "metadata": {},
   "outputs": [
    {
     "name": "stdout",
     "output_type": "stream",
     "text": [
      "[[ 0  1]\n",
      " [ 2  3]\n",
      " [ 4  5]\n",
      " [ 0  2]\n",
      " [ 4  6]\n",
      " [ 8 10]]\n"
     ]
    }
   ],
   "source": [
    "arr1 = np.arange(6).reshape(3,2)\n",
    "arr2 = arr1*2\n",
    "arr3 = np.vstack((arr1,arr2))\n",
    "print(arr3)\n"
   ]
  },
  {
   "cell_type": "markdown",
   "metadata": {},
   "source": [
    "【例3-20】concatenate函数合并数组。"
   ]
  },
  {
   "cell_type": "code",
   "execution_count": 23,
   "metadata": {},
   "outputs": [
    {
     "name": "stdout",
     "output_type": "stream",
     "text": [
      "横向组合为：\n",
      " [[ 0  1  0  2]\n",
      " [ 2  3  4  6]\n",
      " [ 4  5  8 10]]\n",
      "纵向组合为：\n",
      " [[ 0  1]\n",
      " [ 2  3]\n",
      " [ 4  5]\n",
      " [ 0  2]\n",
      " [ 4  6]\n",
      " [ 8 10]]\n"
     ]
    }
   ],
   "source": [
    "arr1 = np.arange(6).reshape(3,2)\n",
    "arr2 = arr1*2\n",
    "print('横向组合为：\\n',np.concatenate((arr1,arr2),axis = 1))\n",
    "print('纵向组合为：\\n',np.concatenate((arr1,arr2),axis = 0))\n"
   ]
  },
  {
   "cell_type": "markdown",
   "metadata": {},
   "source": [
    "【例3-21】数组的分割。"
   ]
  },
  {
   "cell_type": "code",
   "execution_count": 24,
   "metadata": {},
   "outputs": [
    {
     "name": "stdout",
     "output_type": "stream",
     "text": [
      "横向分割为:\n",
      " [array([[ 0,  1],\n",
      "       [ 4,  5],\n",
      "       [ 8,  9],\n",
      "       [12, 13]]), array([[ 2,  3],\n",
      "       [ 6,  7],\n",
      "       [10, 11],\n",
      "       [14, 15]])]\n",
      "纵向组合为:\n",
      " [array([[0, 1, 2, 3],\n",
      "       [4, 5, 6, 7]]), array([[ 8,  9, 10, 11],\n",
      "       [12, 13, 14, 15]])]\n"
     ]
    }
   ],
   "source": [
    "arr = np.arange(16).reshape(4,4)\n",
    "print('横向分割为:\\n',np.hsplit(arr,2))\n",
    "print('纵向组合为:\\n',np.vsplit(arr,2))\n"
   ]
  },
  {
   "cell_type": "markdown",
   "metadata": {},
   "source": [
    "【例3-22】数组利用transpose转置。"
   ]
  },
  {
   "cell_type": "code",
   "execution_count": 25,
   "metadata": {},
   "outputs": [
    {
     "name": "stdout",
     "output_type": "stream",
     "text": [
      "矩阵： [[0 1]\n",
      " [2 3]\n",
      " [4 5]]\n",
      "转置矩阵： [[0 2 4]\n",
      " [1 3 5]]\n"
     ]
    }
   ],
   "source": [
    "arr = np.arange(6).reshape(3,2)\n",
    "print('矩阵：',arr)\n",
    "print('转置矩阵：',arr.transpose((1,0)))\n"
   ]
  },
  {
   "cell_type": "markdown",
   "metadata": {},
   "source": [
    "【例3-23】数组的T属性转置。"
   ]
  },
  {
   "cell_type": "code",
   "execution_count": 26,
   "metadata": {},
   "outputs": [
    {
     "name": "stdout",
     "output_type": "stream",
     "text": [
      "[[0 2 4]\n",
      " [1 3 5]]\n"
     ]
    }
   ],
   "source": [
    "print(arr.T)"
   ]
  },
  {
   "cell_type": "markdown",
   "metadata": {},
   "source": [
    "【例3-24】数组的轴对换。"
   ]
  },
  {
   "cell_type": "code",
   "execution_count": 27,
   "metadata": {},
   "outputs": [
    {
     "name": "stdout",
     "output_type": "stream",
     "text": [
      "[[0 1]\n",
      " [2 3]\n",
      " [4 5]]\n",
      "[[0 2 4]\n",
      " [1 3 5]]\n"
     ]
    }
   ],
   "source": [
    "arr = np.arange(6).reshape(3,2)\n",
    "print(arr)\n",
    "print(arr.swapaxes(0,1))\n"
   ]
  },
  {
   "cell_type": "markdown",
   "metadata": {},
   "source": [
    "【例3-25】一维数组的索引。"
   ]
  },
  {
   "cell_type": "code",
   "execution_count": 28,
   "metadata": {},
   "outputs": [
    {
     "name": "stdout",
     "output_type": "stream",
     "text": [
      "[0 1 2 3 4 5 6 7 8 9]\n",
      "2\n",
      "9\n",
      "[1 2 3]\n"
     ]
    }
   ],
   "source": [
    "arr = np.arange(10)\n",
    "print(arr)\n",
    "print(arr[2])\n",
    "print(arr[-1])\n",
    "print(arr[1:4])\n"
   ]
  },
  {
   "cell_type": "markdown",
   "metadata": {},
   "source": [
    "【例3-26】数组元素的复制。"
   ]
  },
  {
   "cell_type": "code",
   "execution_count": 29,
   "metadata": {},
   "outputs": [
    {
     "name": "stdout",
     "output_type": "stream",
     "text": [
      "[0 1 2 3 4 5 6 7 8 9]\n",
      "[6 7 8]\n"
     ]
    }
   ],
   "source": [
    "arr1 = arr[-4:-1].copy()\n",
    "print(arr)\n",
    "print(arr1)\n"
   ]
  },
  {
   "cell_type": "markdown",
   "metadata": {},
   "source": [
    "【例3-27】多维数组的索引。"
   ]
  },
  {
   "cell_type": "code",
   "execution_count": 30,
   "metadata": {},
   "outputs": [
    {
     "name": "stdout",
     "output_type": "stream",
     "text": [
      "[[ 0  1  2  3]\n",
      " [ 4  5  6  7]\n",
      " [ 8  9 10 11]]\n",
      "[1 2]\n",
      "[ 2  6 10]\n",
      "[[0]]\n"
     ]
    }
   ],
   "source": [
    "arr = np.arange(12).reshape(3,4)\n",
    "print(arr)\n",
    "print(arr[0,1:3])  #索引第0行中第1列到第2列的元素\n",
    "print(arr[:,2])   #索引第2列元素\n",
    "print(arr[:1,:1])  #第0行第0列元素\n"
   ]
  },
  {
   "cell_type": "markdown",
   "metadata": {},
   "source": [
    "【例3-28】访问多维数组。"
   ]
  },
  {
   "cell_type": "code",
   "execution_count": 31,
   "metadata": {},
   "outputs": [
    {
     "name": "stdout",
     "output_type": "stream",
     "text": [
      "[[ 0  1  2  3]\n",
      " [ 4  5  6  7]\n",
      " [ 8  9 10 11]]\n",
      "索引结果1： [1 7]\n",
      "索引结果2： [[4 6 7]]\n",
      "[ True False  True]\n",
      "索引结果3： [1 9]\n"
     ]
    }
   ],
   "source": [
    "arr = np.arange(12).reshape(3,4)\n",
    "#从两个序列的对应位置取出两个整数来组成下标：arr[0,1],arr[1,3]\n",
    "print(arr)\n",
    "print('索引结果1：',arr[(0,1),(1,3)])\n",
    "#索引第1、2行中第0、2、3列的元素\n",
    "print('索引结果2：',arr[1:2,(0,2,3)])\n",
    "mask = np.array([1,0,1],dtype = np.bool)\n",
    "print(mask)\n",
    "#mask是一个布尔数组，它索引第0,2行中第1列元素\n",
    "print('索引结果3：',arr[mask,1])\n"
   ]
  },
  {
   "cell_type": "markdown",
   "metadata": {},
   "source": [
    "【例3-29】数组元素的追加。"
   ]
  },
  {
   "cell_type": "code",
   "execution_count": 32,
   "metadata": {},
   "outputs": [
    {
     "name": "stdout",
     "output_type": "stream",
     "text": [
      "b_a数组： [1 2 3 1 2 3]\n",
      "c数组： [2 4 6]\n"
     ]
    }
   ],
   "source": [
    "# import numpy as np\n",
    "a = [1,2,3]\n",
    "b = np.array([1,2,3])\n",
    "b_a = np.append(b,a)\n",
    "print('b_a数组：',b_a)\n",
    "wy = np.array([1,2,3])\n",
    "c = wy*2\n",
    "print('c数组：',c)\n"
   ]
  },
  {
   "cell_type": "markdown",
   "metadata": {},
   "source": [
    "【例3-30】数组的四则运算。"
   ]
  },
  {
   "cell_type": "code",
   "execution_count": 33,
   "metadata": {},
   "outputs": [
    {
     "name": "stdout",
     "output_type": "stream",
     "text": [
      "数组相加结果： [5 7 9]\n",
      "数组相减结果： [-3 -3 -3]\n",
      "数组相乘结果： [ 4 10 18]\n",
      "数组幂运算结果： [  1  32 729]\n"
     ]
    }
   ],
   "source": [
    "x = np.array([1,2,3])\n",
    "y = np.array([4,5,6])\n",
    "print('数组相加结果：',x+y)\n",
    "print('数组相减结果：',x-y)\n",
    "print('数组相乘结果：',x*y)\n",
    "print('数组幂运算结果：',x**y)\n"
   ]
  },
  {
   "cell_type": "markdown",
   "metadata": {},
   "source": [
    "【例3-31】数组的比较运算。"
   ]
  },
  {
   "cell_type": "code",
   "execution_count": 34,
   "metadata": {},
   "outputs": [
    {
     "name": "stdout",
     "output_type": "stream",
     "text": [
      "比较结果(<)： [ True False False]\n",
      "比较结果(>)： [False False  True]\n",
      "比较结果(==)： [False  True False]\n",
      "比较结果(>=)： [False  True  True]\n",
      "比较结果(!=)： [ True False  True]\n"
     ]
    }
   ],
   "source": [
    "x = np.array([1,3,6])\n",
    "y = np.array([2,3,4])\n",
    "print('比较结果(<)：',x<y)\n",
    "print('比较结果(>)：',x>y)\n",
    "print('比较结果(==)：',x==y)\n",
    "print('比较结果(>=)：',x>=y)\n",
    "print('比较结果(!=)：',x!=y)\n"
   ]
  },
  {
   "cell_type": "markdown",
   "metadata": {},
   "source": [
    "【例3-32】ufunc函数的广播。"
   ]
  },
  {
   "cell_type": "code",
   "execution_count": 35,
   "metadata": {},
   "outputs": [
    {
     "name": "stdout",
     "output_type": "stream",
     "text": [
      "arr1:\n",
      " [[0 0 0]\n",
      " [1 1 1]\n",
      " [2 2 2]]\n",
      "arr2:\n",
      " [1 2 3]\n",
      "arr1+arr2:\n",
      " [[1 2 3]\n",
      " [2 3 4]\n",
      " [3 4 5]]\n"
     ]
    }
   ],
   "source": [
    "arr1 = np.array([[0,0,0],[1,1,1],[2,2,2]])\n",
    "arr2 = np.array([1,2,3])\n",
    "print('arr1:\\n',arr1)\n",
    "print('arr2:\\n',arr2)\n",
    "print('arr1+arr2:\\n',arr1+arr2)\n"
   ]
  },
  {
   "cell_type": "code",
   "execution_count": 36,
   "metadata": {},
   "outputs": [
    {
     "name": "stdout",
     "output_type": "stream",
     "text": [
      "[[ 1  2  3]\n",
      " [ 4  5  6]\n",
      " [ 7  8  9]\n",
      " [10 11 12]]\n",
      "[[1]\n",
      " [2]\n",
      " [3]\n",
      " [4]]\n",
      "[[ 2  3  4]\n",
      " [ 6  7  8]\n",
      " [10 11 12]\n",
      " [14 15 16]]\n"
     ]
    }
   ],
   "source": [
    "a = np.arange(1, 13).reshape(4, 3) \n",
    "b = np.arange(1,5).reshape(4,1)\n",
    "print(a)\n",
    "print(b)\n",
    "print(a+b)"
   ]
  },
  {
   "cell_type": "markdown",
   "metadata": {},
   "source": [
    "【例3-33】数组的条件逻辑运算。"
   ]
  },
  {
   "cell_type": "code",
   "execution_count": 37,
   "metadata": {},
   "outputs": [
    {
     "data": {
      "text/plain": [
       "[1, 4, 5, 8]"
      ]
     },
     "execution_count": 37,
     "metadata": {},
     "output_type": "execute_result"
    }
   ],
   "source": [
    "arr1 = np.array([1,3,5,7])\n",
    "arr2 = np.array([2,4,6,8])\n",
    "cond = np.array([True,False,True,False])\n",
    "result = [(x if c else y)for x,y,c in zip(arr1,arr2,cond)]\n",
    "result\n"
   ]
  },
  {
   "cell_type": "markdown",
   "metadata": {},
   "source": [
    "【例3-34】where的基本用法。"
   ]
  },
  {
   "cell_type": "code",
   "execution_count": 38,
   "metadata": {},
   "outputs": [
    {
     "data": {
      "text/plain": [
       "array([[1, 8],\n",
       "       [3, 4]])"
      ]
     },
     "execution_count": 38,
     "metadata": {},
     "output_type": "execute_result"
    }
   ],
   "source": [
    "np.where([[True,False], [True,True]],[[1,2], [3,4]],[[9,8], [7,6]])"
   ]
  },
  {
   "cell_type": "markdown",
   "metadata": {},
   "source": [
    "【例3-35】where中只有condition参数。"
   ]
  },
  {
   "cell_type": "code",
   "execution_count": 39,
   "metadata": {},
   "outputs": [
    {
     "data": {
      "text/plain": [
       "(array([1, 2, 4], dtype=int64),)"
      ]
     },
     "execution_count": 39,
     "metadata": {},
     "output_type": "execute_result"
    }
   ],
   "source": [
    "w = np.array([2,5,6,3,10])\n",
    "np.where(w>4)\n"
   ]
  },
  {
   "cell_type": "markdown",
   "metadata": {},
   "source": [
    "【例3-36】数组的读写。"
   ]
  },
  {
   "cell_type": "code",
   "execution_count": 40,
   "metadata": {},
   "outputs": [
    {
     "name": "stdout",
     "output_type": "stream",
     "text": [
      "[[ 1  2  3  4]\n",
      " [ 5  6  7  8]\n",
      " [ 9 10 11 12]]\n",
      "[[ 1  2  3  4]\n",
      " [ 5  6  7  8]\n",
      " [ 9 10 11 12]]\n"
     ]
    }
   ],
   "source": [
    "a = np.arange(1,13).reshape(3,4)\n",
    "print(a)\n",
    "np.save('arr.npy', a)      # np.save(\"arr\", a)\n",
    "c = np.load( 'arr.npy' )\n",
    "print(c)\n"
   ]
  },
  {
   "cell_type": "markdown",
   "metadata": {},
   "source": [
    "【例3-37】多个数组保存。"
   ]
  },
  {
   "cell_type": "code",
   "execution_count": 41,
   "metadata": {},
   "outputs": [
    {
     "name": "stdout",
     "output_type": "stream",
     "text": [
      "[0.         0.09983342 0.19866933 0.29552021 0.38941834 0.47942554\n",
      " 0.56464247 0.64421769 0.71735609 0.78332691]\n"
     ]
    },
    {
     "data": {
      "text/plain": [
       "array([[1, 2, 3],\n",
       "       [4, 5, 6]])"
      ]
     },
     "execution_count": 41,
     "metadata": {},
     "output_type": "execute_result"
    }
   ],
   "source": [
    "a = np.array([[1,2,3],[4,5,6]])\n",
    "b = np.arange(0, 1.0, 0.1)\n",
    "c = np.sin(b)   #长度为10\n",
    "print(c)\n",
    "np.savez('result.npz', a, b, sin_array = c)\n",
    "r = np.load('result.npz')\n",
    "r['arr_0']   #数组a\n"
   ]
  },
  {
   "cell_type": "markdown",
   "metadata": {},
   "source": [
    "【例3-38】读写文本文件。"
   ]
  },
  {
   "cell_type": "code",
   "execution_count": 42,
   "metadata": {},
   "outputs": [
    {
     "data": {
      "text/plain": [
       "array([[ 0.,  0.,  1.,  1.,  2.,  2.],\n",
       "       [ 3.,  3.,  4.,  4.,  5.,  5.],\n",
       "       [ 6.,  6.,  7.,  7.,  8.,  8.],\n",
       "       [ 9.,  9., 10., 10., 11., 11.]])"
      ]
     },
     "execution_count": 42,
     "metadata": {},
     "output_type": "execute_result"
    }
   ],
   "source": [
    "a = np.arange(0,12,0.5).reshape(4,-1)\n",
    "np.savetxt(\"data//a1-out.txt\", a)  \n",
    "#缺省按照'%.18e'格式保存数值\n",
    "np.loadtxt(\"data//a1-out.txt\")\n",
    "np.savetxt(\"data//a2-out.txt\", a, fmt = \"%d\", delimiter = \",\") \n",
    "#改为保存为整数，以逗号分隔\n",
    "np.loadtxt(\"data//a2-out.txt\",delimiter = \",\") \n",
    "# 读入的时候也需要指定逗号分隔\n"
   ]
  },
  {
   "cell_type": "markdown",
   "metadata": {},
   "source": [
    "【例3-39】使用sort函数进行排序。"
   ]
  },
  {
   "cell_type": "code",
   "execution_count": 43,
   "metadata": {},
   "outputs": [
    {
     "name": "stdout",
     "output_type": "stream",
     "text": [
      "原数组： [7 9 5 2 9 4 3 1 4 3]\n",
      "排序后： [1 2 3 3 4 4 5 7 9 9]\n"
     ]
    }
   ],
   "source": [
    "arr = np.array([7,9,5,2,9,4,3,1,4,3])\n",
    "print('原数组：',arr)\n",
    "arr.sort()\n",
    "print('排序后：',arr)\n"
   ]
  },
  {
   "cell_type": "markdown",
   "metadata": {},
   "source": [
    "【例3-40】带轴向参数的sort排序。"
   ]
  },
  {
   "cell_type": "code",
   "execution_count": 44,
   "metadata": {},
   "outputs": [
    {
     "name": "stdout",
     "output_type": "stream",
     "text": [
      "原数组：\n",
      " [[4 2 9 5]\n",
      " [6 4 8 3]\n",
      " [1 6 2 4]]\n",
      "横向排序后：\n",
      " [[2 4 5 9]\n",
      " [3 4 6 8]\n",
      " [1 2 4 6]]\n"
     ]
    }
   ],
   "source": [
    "arr = np.array([[4,2,9,5],[6,4,8,3],[1,6,2,4]])\n",
    "print('原数组：\\n',arr)\n",
    "arr.sort(axis = 1)   #沿横向排序\n",
    "print('横向排序后：\\n',arr)\n"
   ]
  },
  {
   "cell_type": "markdown",
   "metadata": {},
   "source": [
    "【例3-41】使用argsort函数进行排序。"
   ]
  },
  {
   "cell_type": "code",
   "execution_count": 45,
   "metadata": {},
   "outputs": [
    {
     "name": "stdout",
     "output_type": "stream",
     "text": [
      "原数组： [7 9 5 2 9 4 3 1 4 3]\n",
      "排序后： [7 3 6 9 5 8 2 0 1 4]\n",
      "显示较大的5个数： [4 5 7 9 9]\n"
     ]
    }
   ],
   "source": [
    "arr = np.array([7,9,5,2,9,4,3,1,4,3])\n",
    "print('原数组：',arr)\n",
    "print('排序后：',arr.argsort())\n",
    "#返回值为数组排序后的下标排列\n",
    "print('显示较大的5个数：',arr[arr.argsort()][-5:])\n"
   ]
  },
  {
   "cell_type": "markdown",
   "metadata": {},
   "source": [
    "【例3-42】使用lexsort排序。"
   ]
  },
  {
   "cell_type": "code",
   "execution_count": 46,
   "metadata": {},
   "outputs": [
    {
     "name": "stdout",
     "output_type": "stream",
     "text": [
      "ind: [5 0 3 4 6 1 2]\n",
      "tmp: [(-2, 8), (1, 9), (2, 0), (3, 6), (4, 7), (5, 5), (7, 2)]\n"
     ]
    }
   ],
   "source": [
    "a = [1,5,7,2,3,-2,4]\n",
    "b = [9,5,2,0,6,8,7]\n",
    "ind=np.lexsort((b,a))\n",
    "print('ind:',ind)\n",
    "tmp=[(a[i],b[i])for i in ind]\n",
    "print('tmp:',tmp)\n"
   ]
  },
  {
   "cell_type": "markdown",
   "metadata": {},
   "source": [
    "【例3-43】数组内数据去重。"
   ]
  },
  {
   "cell_type": "code",
   "execution_count": 47,
   "metadata": {},
   "outputs": [
    {
     "name": "stdout",
     "output_type": "stream",
     "text": [
      "原数组： ['红色' '蓝色' '蓝色' '白色' '红色' '红色']\n",
      "去重后的数组: ['白色' '红色' '蓝色']\n",
      "数据出现次数: (array(['白色', '红色', '蓝色'], dtype='<U2'), array([1, 3, 2], dtype=int64))\n"
     ]
    }
   ],
   "source": [
    "names = np.array(['红色','蓝色','蓝色','白色','红色','红色'])\n",
    "print('原数组：',names)\n",
    "print('去重后的数组:',np.unique(names)) \n",
    "print('数据出现次数:',np.unique(names,return_counts=True))\n",
    "\n"
   ]
  },
  {
   "cell_type": "markdown",
   "metadata": {},
   "source": [
    "【例3-44】使用tile函数实现数据重复。"
   ]
  },
  {
   "cell_type": "code",
   "execution_count": 48,
   "metadata": {},
   "outputs": [
    {
     "name": "stdout",
     "output_type": "stream",
     "text": [
      "原数组： [0 1 2 3 4]\n",
      "重复数据处理：\n",
      " [0 1 2 3 4 0 1 2 3 4 0 1 2 3 4]\n"
     ]
    }
   ],
   "source": [
    "arr = np.arange(5)\n",
    "print('原数组：',arr)\n",
    "wy = np.tile(arr,3)\n",
    "print('重复数据处理：\\n',wy)\n"
   ]
  },
  {
   "cell_type": "markdown",
   "metadata": {},
   "source": [
    "【例3-45】使用repeat函数实现数据重复。"
   ]
  },
  {
   "cell_type": "code",
   "execution_count": 49,
   "metadata": {},
   "outputs": [
    {
     "name": "stdout",
     "output_type": "stream",
     "text": [
      "原数组： [0 1 2 3 4]\n",
      "重复数据处理：\n",
      " [0 1 2 3 4 0 1 2 3 4 0 1 2 3 4]\n",
      "重复数据处理：\n",
      " [[1 2 3]\n",
      " [1 2 3]\n",
      " [4 5 6]\n",
      " [4 5 6]]\n"
     ]
    }
   ],
   "source": [
    "arr = np.arange(5)\n",
    "print('原数组：',arr)\n",
    "wy = np.tile(arr,3)\n",
    "print('重复数据处理：\\n',wy)\n",
    "arr2 = np.array([[1,2,3],[4,5,6]])\n",
    "print('重复数据处理：\\n',arr2.repeat(2,axis=0)) \n"
   ]
  },
  {
   "cell_type": "markdown",
   "metadata": {},
   "source": [
    "【例3-46】NumPy中常用函数的使用。"
   ]
  },
  {
   "cell_type": "code",
   "execution_count": 50,
   "metadata": {},
   "outputs": [
    {
     "name": "stdout",
     "output_type": "stream",
     "text": [
      "创建的数组：\n",
      " [[ 0  1  2  3  4]\n",
      " [ 5  6  7  8  9]\n",
      " [10 11 12 13 14]\n",
      " [15 16 17 18 19]]\n",
      "数组的和： 190\n",
      "数组纵轴的和： [30 34 38 42 46]\n",
      "数组横轴的和： [10 35 60 85]\n",
      "数组的均值： 9.5\n",
      "数组横轴的均值： [ 2.  7. 12. 17.]\n",
      "数组的标准差： 5.766281297335398\n",
      "数组横轴的标准差： [1.41421356 1.41421356 1.41421356 1.41421356]\n"
     ]
    }
   ],
   "source": [
    "arr = np.arange(20).reshape(4,5)\n",
    "print('创建的数组：\\n',arr)\n",
    "print('数组的和：',np.sum(arr))\n",
    "print('数组纵轴的和：',np.sum(arr,axis = 0))\n",
    "print('数组横轴的和：',np.sum(arr,axis = 1))\n",
    "print('数组的均值：',np.mean(arr))\n",
    "print('数组横轴的均值：',np.mean(arr,axis = 1))\n",
    "print('数组的标准差：',np.std(arr))\n",
    "print('数组横轴的标准差：',np.std(arr,axis = 1))\n"
   ]
  }
 ],
 "metadata": {
  "kernelspec": {
   "display_name": "Python 3",
   "language": "python",
   "name": "python3"
  },
  "language_info": {
   "codemirror_mode": {
    "name": "ipython",
    "version": 3
   },
   "file_extension": ".py",
   "mimetype": "text/x-python",
   "name": "python",
   "nbconvert_exporter": "python",
   "pygments_lexer": "ipython3",
   "version": "3.7.4"
  },
  "toc": {
   "base_numbering": 1,
   "nav_menu": {},
   "number_sections": true,
   "sideBar": true,
   "skip_h1_title": false,
   "title_cell": "Table of Contents",
   "title_sidebar": "Contents",
   "toc_cell": false,
   "toc_position": {},
   "toc_section_display": true,
   "toc_window_display": false
  }
 },
 "nbformat": 4,
 "nbformat_minor": 2
}
