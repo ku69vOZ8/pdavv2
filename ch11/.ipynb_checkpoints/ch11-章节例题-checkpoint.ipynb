{
 "cells": [
  {
   "cell_type": "markdown",
   "metadata": {},
   "source": [
    "【例11-1】对iris数据集中花萼宽度与长度进行一元线性回归分析。"
   ]
  },
  {
   "cell_type": "code",
   "execution_count": 1,
   "metadata": {},
   "outputs": [
    {
     "data": {
      "image/png": "[encoded data removed]",
      "text/plain": [
       "<Figure size 432x288 with 1 Axes>"
      ]
     },
     "metadata": {
      "needs_background": "light"
     },
     "output_type": "display_data"
    },
    {
     "name": "stdout",
     "output_type": "stream",
     "text": [
      "系数: [[0.41575542]]\n",
      "截距: [-0.36307552]\n",
      "预测值为: [[1.2583706]]\n"
     ]
    }
   ],
   "source": [
    "import pandas as pd\n",
    "import matplotlib.pyplot as plt\n",
    "from sklearn.datasets import load_iris \n",
    "from sklearn.linear_model import LinearRegression\n",
    "%matplotlib inline\n",
    "iris = load_iris()   #导入数据集iris\n",
    "data=pd.DataFrame(iris.data)\n",
    "data.columns=['sepal-length', 'sepal-width', 'petal-length', 'petal-width']\n",
    "# 使用sklearn完成一元线性回归\n",
    "x = data['petal-length'].values\n",
    "y = data['petal-width'].values\n",
    "x = x.reshape(len(x),1)\n",
    "y = y.reshape(len(y),1)\n",
    "clf = LinearRegression()\n",
    "clf.fit(x,y)\n",
    "pre = clf.predict(x)\n",
    "plt.scatter(x,y,s=50)\n",
    "plt.plot(x,pre,'r-',linewidth=2)\n",
    "plt.xlabel('petal-length')\n",
    "plt.ylabel('petal-width')\n",
    "for idx, m in enumerate(x):  \n",
    "    plt.plot([m,m],[y[idx],pre[idx]], 'g-')  \n",
    "plt.show()\n",
    "print(u\"系数:\", clf.coef_  )\n",
    "print(u\"截距:\", clf.intercept_  )\n",
    "# 对花萼长度为3.9的花，预测其花萼宽度。\n",
    "print('预测值为:',clf.predict([[3.9]]) )"
   ]
  },
  {
   "cell_type": "markdown",
   "metadata": {},
   "source": [
    "【例11-2】对iris数据集进行逻辑回归分析。"
   ]
  },
  {
   "cell_type": "code",
   "execution_count": 6,
   "metadata": {},
   "outputs": [
    {
     "name": "stdout",
     "output_type": "stream",
     "text": [
      "Accuracy of LR Classifier:0.816\n"
     ]
    }
   ],
   "source": [
    "from sklearn.datasets import load_iris\n",
    "from sklearn.model_selection import train_test_split\n",
    "from sklearn.linear_model import LogisticRegression\n",
    "import warnings\n",
    "warnings.filterwarnings('ignore')\n",
    "X = load_iris().data\n",
    "y = load_iris().target\n",
    "# 划分训练集和测试集，并对数据进行I标准化\n",
    "X_train, X_test, y_train, y_test = train_test_split(X, y, test_size = 0.25, random_state = 0)\n",
    "from sklearn.preprocessing import StandardScaler\n",
    "sc = StandardScaler()\n",
    "X_train = sc.fit_transform(X_train)\n",
    "X_test = sc.transform(X_test)\n",
    "# 训练逻辑回归模型并对测试集进行预测\n",
    "classifier = LogisticRegression(random_state = 0)\n",
    "classifier.fit(X_train, y_train)\n",
    "y_pred = classifier.predict(X_test)\n",
    "#用LogisticRegression自带的score获得模型在测试集上的准确性\n",
    "print('Accuracy of LR Classifier:%.3f'%classifier.score(X_test,y_test))"
   ]
  },
  {
   "cell_type": "markdown",
   "metadata": {},
   "source": [
    ".【例11-3】利用决策树算法对Iris数据构建决策树。"
   ]
  },
  {
   "cell_type": "code",
   "execution_count": 2,
   "metadata": {},
   "outputs": [
    {
     "ename": "ModuleNotFoundError",
     "evalue": "No module named 'graphviz'",
     "output_type": "error",
     "traceback": [
      "\u001b[1;31m---------------------------------------------------------------------------\u001b[0m",
      "\u001b[1;31mModuleNotFoundError\u001b[0m                       Traceback (most recent call last)",
      "\u001b[1;32m<ipython-input-2-c4353575b4e7>\u001b[0m in \u001b[0;36m<module>\u001b[1;34m\u001b[0m\n\u001b[0;32m      3\u001b[0m \u001b[1;32mfrom\u001b[0m \u001b[0msklearn\u001b[0m \u001b[1;32mimport\u001b[0m \u001b[0mtree\u001b[0m\u001b[1;33m\u001b[0m\u001b[1;33m\u001b[0m\u001b[0m\n\u001b[0;32m      4\u001b[0m \u001b[1;32mfrom\u001b[0m \u001b[0msklearn\u001b[0m\u001b[1;33m.\u001b[0m\u001b[0mtree\u001b[0m \u001b[1;32mimport\u001b[0m \u001b[0mexport_graphviz\u001b[0m\u001b[1;33m\u001b[0m\u001b[1;33m\u001b[0m\u001b[0m\n\u001b[1;32m----> 5\u001b[1;33m \u001b[1;32mimport\u001b[0m \u001b[0mgraphviz\u001b[0m\u001b[1;33m\u001b[0m\u001b[1;33m\u001b[0m\u001b[0m\n\u001b[0m\u001b[0;32m      6\u001b[0m \u001b[0miris\u001b[0m \u001b[1;33m=\u001b[0m \u001b[0mload_iris\u001b[0m\u001b[1;33m(\u001b[0m\u001b[1;33m)\u001b[0m\u001b[1;33m\u001b[0m\u001b[1;33m\u001b[0m\u001b[0m\n\u001b[0;32m      7\u001b[0m \u001b[0mclf\u001b[0m \u001b[1;33m=\u001b[0m \u001b[0mtree\u001b[0m\u001b[1;33m.\u001b[0m\u001b[0mDecisionTreeClassifier\u001b[0m\u001b[1;33m(\u001b[0m\u001b[1;33m)\u001b[0m\u001b[1;33m\u001b[0m\u001b[1;33m\u001b[0m\u001b[0m\n",
      "\u001b[1;31mModuleNotFoundError\u001b[0m: No module named 'graphviz'"
     ]
    }
   ],
   "source": [
    "from sklearn.datasets import load_iris\n",
    "import pandas as pd\n",
    "from sklearn import tree\n",
    "from sklearn.tree import export_graphviz\n",
    "import graphviz  #提前安装\n",
    "iris = load_iris()\n",
    "clf = tree.DecisionTreeClassifier()\n",
    "clf = clf.fit(iris.data, iris.target)\n",
    "dot_file = 'tree.dot'\n",
    "tree.export_graphviz(clf, out_file = dot_file)\n",
    "with open(\"result\\\\tree.dot\", 'w') as f:\n",
    "    f=export_graphviz(clf, out_file = f,feature_names = ['SL','SW','PL','PW'])\n",
    "# 需要下载graphviz"
   ]
  },
  {
   "cell_type": "code",
   "execution_count": 1,
   "metadata": {},
   "outputs": [
    {
     "ename": "ModuleNotFoundError",
     "evalue": "No module named 'graphviz'",
     "output_type": "error",
     "traceback": [
      "\u001b[1;31m---------------------------------------------------------------------------\u001b[0m",
      "\u001b[1;31mModuleNotFoundError\u001b[0m                       Traceback (most recent call last)",
      "\u001b[1;32m<ipython-input-1-154f70fbd1cf>\u001b[0m in \u001b[0;36m<module>\u001b[1;34m\u001b[0m\n\u001b[0;32m      4\u001b[0m \u001b[1;32mfrom\u001b[0m \u001b[0msklearn\u001b[0m \u001b[1;32mimport\u001b[0m \u001b[0mtree\u001b[0m\u001b[1;33m\u001b[0m\u001b[1;33m\u001b[0m\u001b[0m\n\u001b[0;32m      5\u001b[0m \u001b[1;32mfrom\u001b[0m \u001b[0msklearn\u001b[0m\u001b[1;33m.\u001b[0m\u001b[0mtree\u001b[0m \u001b[1;32mimport\u001b[0m \u001b[0mexport_graphviz\u001b[0m\u001b[1;33m\u001b[0m\u001b[1;33m\u001b[0m\u001b[0m\n\u001b[1;32m----> 6\u001b[1;33m \u001b[1;32mimport\u001b[0m \u001b[0mgraphviz\u001b[0m\u001b[1;33m\u001b[0m\u001b[1;33m\u001b[0m\u001b[0m\n\u001b[0m\u001b[0;32m      7\u001b[0m \u001b[0miris\u001b[0m \u001b[1;33m=\u001b[0m \u001b[0mload_iris\u001b[0m\u001b[1;33m(\u001b[0m\u001b[1;33m)\u001b[0m\u001b[1;33m\u001b[0m\u001b[1;33m\u001b[0m\u001b[0m\n\u001b[0;32m      8\u001b[0m \u001b[0mclf\u001b[0m \u001b[1;33m=\u001b[0m \u001b[0mtree\u001b[0m\u001b[1;33m.\u001b[0m\u001b[0mDecisionTreeClassifier\u001b[0m\u001b[1;33m(\u001b[0m\u001b[1;33m)\u001b[0m\u001b[1;33m\u001b[0m\u001b[1;33m\u001b[0m\u001b[0m\n",
      "\u001b[1;31mModuleNotFoundError\u001b[0m: No module named 'graphviz'"
     ]
    }
   ],
   "source": [
    "import sklearn\n",
    "from sklearn.datasets import load_iris\n",
    "import pandas as pd\n",
    "from sklearn import tree\n",
    "from sklearn.tree import export_graphviz\n",
    "import graphviz\n",
    "iris = load_iris()\n",
    "clf = tree.DecisionTreeClassifier()\n",
    "clf = clf.fit(iris.data, iris.target)\n",
    "dot_file = 'tree.dot'\n",
    "tree.export_graphviz(clf, out_file = dot_file)\n",
    "with open(\"tree.dot\", 'w') as f:\n",
    "    f = export_graphviz(clf, out_file = None,feature_names = ['SL','SW','PL','PW'])\n",
    "    out = graphviz.Source(f)\n",
    "    out.render(r'result1\\iris') #使用garphviz将决策树转存PDF存放到桌面，文件名叫iris\n",
    "    \n"
   ]
  },
  {
   "cell_type": "code",
   "execution_count": null,
   "metadata": {},
   "outputs": [],
   "source": [
    "from sklearn import tree #导入决策树\n",
    "from sklearn.datasets import load_iris #导入datasets创建数组\n",
    "import graphviz #导入决策树可视化模块\n",
    "\n",
    "iris = load_iris()\n",
    "iris_data=iris.data #选择训练数组\n",
    "iris_target=iris.target #选择对应标签数组\n",
    "\n",
    "clf = tree.DecisionTreeClassifier() #创建决策树模型\n",
    "clf=clf.fit(iris_data,iris_target) #拟合模型\n",
    "\n",
    "dot_data = tree.export_graphviz(clf, out_file=None) #以DOT格式导出决策树\n",
    "graph = graphviz.Source(dot_data) \n",
    "graph.render(r'result\\iris') #使用garphviz将决策树转存PDF存放到桌面，文件名叫iris"
   ]
  },
  {
   "cell_type": "markdown",
   "metadata": {},
   "source": [
    "【例11-4】利用KNN对iris数据集分类。"
   ]
  },
  {
   "cell_type": "code",
   "execution_count": 2,
   "metadata": {},
   "outputs": [
    {
     "name": "stdout",
     "output_type": "stream",
     "text": [
      "['sepal length (cm)', 'sepal width (cm)', 'petal length (cm)', 'petal width (cm)']\n"
     ]
    },
    {
     "data": {
      "text/plain": [
       "<Figure size 640x480 with 1 Axes>"
      ]
     },
     "metadata": {},
     "output_type": "display_data"
    }
   ],
   "source": [
    "import numpy as np\n",
    "import matplotlib.pyplot as plt\n",
    "from matplotlib.colors import ListedColormap\n",
    "from sklearn.neighbors import KNeighborsClassifier\n",
    "from sklearn.datasets import load_iris\n",
    "iris = load_iris()\n",
    "X = iris.data[:,:2]\n",
    "Y = iris.target\n",
    "print(iris.feature_names)\n",
    "cmap_light = ListedColormap(['#FFAAAA','#AAFFAA','#AAAAFF'])\n",
    "cmap_bold = ListedColormap(['#FF0000','#00FF00','#0000FF'])\n",
    "clf = KNeighborsClassifier(n_neighbors = 10,weights = 'uniform')\n",
    "clf.fit(X,Y)\n",
    "#画出决策边界\n",
    "x_min,x_max = X[:,0].min()-1,X[:,0].max()+1\n",
    "y_min,y_max = X[:,1].min()-1,X[:,1].max()+1\n",
    "xx,yy = np.meshgrid(np.arange(x_min,x_max,0.02),\n",
    "np.arange(y_min,y_max,0.02))\n",
    "Z = clf.predict(np.c_[xx.ravel(),yy.ravel()]).reshape(xx.shape)\n",
    "plt.figure()\n",
    "plt.pcolormesh(xx,yy,Z,cmap = cmap_light)\n",
    "#绘制预测结果图\n",
    "plt.scatter(X[:,0],X[:,1],c = Y,cmap = cmap_bold)\n",
    "plt.xlim(xx.min(),xx.max())\n",
    "plt.ylim(yy.min(),yy.max())\n",
    "plt.title('3_Class(k = 10,weights = uniform)')\n",
    "plt.show()\n"
   ]
  },
  {
   "cell_type": "markdown",
   "metadata": {},
   "source": [
    "【例11-5】利用SVM对iris数据集分类。"
   ]
  },
  {
   "cell_type": "code",
   "execution_count": 3,
   "metadata": {},
   "outputs": [
    {
     "name": "stdout",
     "output_type": "stream",
     "text": [
      "SVM-输出训练集的准确率为： 0.975\n",
      "SVM-输出测试集的准确率为： 0.9666666666666667\n",
      "              precision    recall  f1-score   support\n",
      "\n",
      "           0       1.00      1.00      1.00        11\n",
      "           1       1.00      0.92      0.96        13\n",
      "           2       0.86      1.00      0.92         6\n",
      "\n",
      "    accuracy                           0.97        30\n",
      "   macro avg       0.95      0.97      0.96        30\n",
      "weighted avg       0.97      0.97      0.97        30\n",
      "\n"
     ]
    }
   ],
   "source": [
    "import numpy as np\n",
    "from sklearn import svm\n",
    "from sklearn import datasets\n",
    "from sklearn import metrics\n",
    "from sklearn import model_selection\n",
    "import matplotlib.pyplot as plt\n",
    "iris = datasets.load_iris()\n",
    "x, y = iris.data,iris.target\n",
    "x_train, x_test, y_train, y_test = model_selection.train_test_split(x, y, random_state = 1, test_size = 0.2)\n",
    "classifier=svm.SVC(kernel='linear',gamma=0.1,decision_function_shape='ovo',C=0.1)\n",
    "classifier.fit(x_train, y_train.ravel())\n",
    "print(\"SVM-输出训练集的准确率为：\", classifier.score(x_train, y_train))\n",
    "print(\"SVM-输出测试集的准确率为：\", classifier.score(x_test, y_test))\n",
    "y_hat = classifier.predict(x_test)\n",
    "classreport = metrics.classification_report(y_test,y_hat)\n",
    "print(classreport)\n"
   ]
  },
  {
   "cell_type": "markdown",
   "metadata": {},
   "source": [
    "【例11-6】对iris数据集进行朴素贝叶斯分类。"
   ]
  },
  {
   "cell_type": "code",
   "execution_count": 4,
   "metadata": {},
   "outputs": [
    {
     "name": "stdout",
     "output_type": "stream",
     "text": [
      "Number of mislabeled points out of 150 points:6\n"
     ]
    }
   ],
   "source": [
    "from sklearn.datasets import load_iris\n",
    "from sklearn.naive_bayes import GaussianNB\n",
    "iris = load_iris()\n",
    "clf = GaussianNB()#设置分类器\n",
    "clf.fit(iris.data,iris.target)#训练分类器\n",
    "y_pred = clf.predict(iris.data)#预测\n",
    "print(\"Number of mislabeled points out of %d points:%d\" %(iris.data.shape[0],(iris.target != y_pred).sum()))\n"
   ]
  },
  {
   "cell_type": "markdown",
   "metadata": {},
   "source": [
    "【例11-7】sklearn实现iris数据K-Means聚类。"
   ]
  },
  {
   "cell_type": "code",
   "execution_count": 5,
   "metadata": {},
   "outputs": [
    {
     "name": "stdout",
     "output_type": "stream",
     "text": [
      "[0 0 0 0 0 0 0 0 0 0 0 0 0 0 0 0 0 0 0 0 0 0 0 0 0 0 0 0 0 0 0 0 0 0 0 0 0\n",
      " 0 0 0 0 0 0 0 0 0 0 0 0 0 1 1 2 1 1 1 1 1 1 1 1 1 1 1 1 1 1 1 1 1 1 1 1 1\n",
      " 1 1 1 2 1 1 1 1 1 1 1 1 1 1 1 1 1 1 1 1 1 1 1 1 1 1 2 1 2 2 2 2 1 2 2 2 2\n",
      " 2 2 1 1 2 2 2 2 1 2 1 2 1 2 2 1 1 2 2 2 2 2 1 2 2 2 2 1 2 2 2 1 2 2 2 1 2\n",
      " 2 1]\n"
     ]
    }
   ],
   "source": [
    "from sklearn.datasets import load_iris  \n",
    "from sklearn.cluster import KMeans  \n",
    "iris = load_iris()    \n",
    "#加载数据集\n",
    "X = iris.data  \n",
    "estimator = KMeans(n_clusters = 3)    \n",
    "#构造K-Means聚类模型\n",
    "estimator.fit(X)                                   \n",
    "#数据导入模型进行训练\n",
    "label_pred = estimator.labels_            \n",
    "#获取聚类标签\n",
    "print(label_pred)\n",
    "#显示各个样本所属的类别标签\n"
   ]
  },
  {
   "cell_type": "markdown",
   "metadata": {},
   "source": [
    "【例11-8】Python层次聚类实现。"
   ]
  },
  {
   "cell_type": "code",
   "execution_count": 6,
   "metadata": {},
   "outputs": [
    {
     "data": {
      "image/png": "[encoded data removed]",
      "text/plain": [
       "<Figure size 432x288 with 1 Axes>"
      ]
     },
     "metadata": {
      "needs_background": "light"
     },
     "output_type": "display_data"
    }
   ],
   "source": [
    "from sklearn.datasets.samples_generator import make_blobs\n",
    "from sklearn.cluster import AgglomerativeClustering\n",
    "import numpy as np\n",
    "import matplotlib.pyplot as plt\n",
    "from itertools import cycle  #python自带的迭代器模块\n",
    "#产生随机数据的中心\n",
    "centers = [[1, 1], [-1, -1], [1, -1]]\n",
    "#产生的数据个数\n",
    "n_samples = 3000\n",
    "#生产数据\n",
    "X, lables_true = make_blobs(n_samples = n_samples, centers= centers, cluster_std = 0.6,random_state = 0)\n",
    "#设置分层聚类函数\n",
    "linkages = ['ward', 'average', 'complete']\n",
    "n_clusters_ = 3\n",
    "ac = AgglomerativeClustering(linkage = linkages[2],n_clusters = n_clusters_)\n",
    "#训练数据\n",
    "ac.fit(X)\n",
    "#每个数据的分类\n",
    "lables = ac.labels_\n",
    "plt.figure(1)  #绘图\n",
    "plt.clf()\n",
    "colors = cycle('bgrcmykbgrcmykbgrcmykbgrcmyk')\n",
    "for k, col in zip(range(n_clusters_), colors):\n",
    "    #根据lables中的值是否等于k，重新组成一个True、False的数组\n",
    "    my_members = lables == k\n",
    "    #X[my_members, 0]取出my_members对应位置为True的值的横坐标\n",
    "    plt.plot(X[my_members, 0], X[my_members, 1], col + '.')    \n",
    "plt.title('Estimated number of clusters: %d' % n_clusters_)\n",
    "plt.show()\n"
   ]
  },
  {
   "cell_type": "markdown",
   "metadata": {},
   "source": [
    "【例11-9】DBSCAN算法实现。"
   ]
  },
  {
   "cell_type": "code",
   "execution_count": null,
   "metadata": {},
   "outputs": [],
   "source": [
    "from sklearn import datasets\n",
    "import numpy as np\n",
    "import random\n",
    "import matplotlib.pyplot as plt\n",
    "def findNeighbor(j,X,eps):\n",
    "    N = []\n",
    "    for p in range(X.shape[0]):   #找到所有邻域内对象\n",
    "        temp = np.sqrt(np.sum(np.square(X[j]-X[p])))   #欧氏距离\n",
    "        if(temp<=eps):\n",
    "            N.append(p)\n",
    "    return N\n",
    "def dbscan(X,eps,min_Pts):\n",
    "    k = -1\n",
    "    NeighborPts = []      #array,某点领域内的对象\n",
    "    Ner_NeighborPts = []\n",
    "    fil = []                #初始时已访问对象列表为空\n",
    "    gama = [x for x in range(len(X))] #初始时将所有点标记为未访问\n",
    "    cluster = [-1 for y in range(len(X))]\n",
    "    while len(gama)>0:\n",
    "        j = random.choice(gama)\n",
    "        gama.remove(j)  #未访问列表中移除\n",
    "        fil.append(j)   #添加入访问列表\n",
    "        NeighborPts = findNeighbor(j,X,eps)\n",
    "        if len(NeighborPts) < min_Pts:\n",
    "            cluster[j] = -1   #标记为噪声点\n",
    "        else:\n",
    "            k = k+1\n",
    "            cluster[j] = k\n",
    "            for i in NeighborPts:\n",
    "                if i not in fil:\n",
    "                    gama.remove(i)\n",
    "                    fil.append(i)\n",
    "                    Ner_NeighborPts=findNeighbor(i,X,eps)\n",
    "                    if len(Ner_NeighborPts) >= min_Pts:\n",
    "                        for a in Ner_NeighborPts:\n",
    "                            if a not in NeighborPts:\n",
    "                                NeighborPts.append(a)\n",
    "                    if (cluster[i]==-1):\n",
    "                        cluster[i]=k\n",
    "    return cluster\n",
    "X1, y1 = datasets.make_circles(n_samples=1000, factor=.6,noise=.05)\n",
    "X2, y2 = datasets.make_blobs(n_samples = 300, n_features = 2, centers = [[1.2,1.2]], cluster_std = [[.1]],random_state = 9)\n",
    "X = np.concatenate((X1, X2))\n",
    "eps = 0.08\n",
    "min_Pts = 10\n",
    "C = dbscan(X,eps,min_Pts)\n",
    "plt.figure(figsize = (12, 9), dpi = 80)\n",
    "plt.scatter(X[:,0],X[:,1],c = C)\n",
    "plt.show()\n"
   ]
  },
  {
   "cell_type": "markdown",
   "metadata": {},
   "source": [
    "【例11-10】sklearn实现实现鸢尾花数据进行降维，将原来4维的数据降维为2维。"
   ]
  },
  {
   "cell_type": "code",
   "execution_count": 7,
   "metadata": {},
   "outputs": [
    {
     "data": {
      "text/plain": [
       "array([[-2.68412563,  0.31939725],\n",
       "       [-2.71414169, -0.17700123],\n",
       "       [-2.88899057, -0.14494943],\n",
       "       [-2.74534286, -0.31829898],\n",
       "       [-2.72871654,  0.32675451],\n",
       "       [-2.28085963,  0.74133045],\n",
       "       [-2.82053775, -0.08946138],\n",
       "       [-2.62614497,  0.16338496],\n",
       "       [-2.88638273, -0.57831175],\n",
       "       [-2.6727558 , -0.11377425],\n",
       "       [-2.50694709,  0.6450689 ],\n",
       "       [-2.61275523,  0.01472994],\n",
       "       [-2.78610927, -0.235112  ],\n",
       "       [-3.22380374, -0.51139459],\n",
       "       [-2.64475039,  1.17876464],\n",
       "       [-2.38603903,  1.33806233],\n",
       "       [-2.62352788,  0.81067951],\n",
       "       [-2.64829671,  0.31184914],\n",
       "       [-2.19982032,  0.87283904],\n",
       "       [-2.5879864 ,  0.51356031],\n",
       "       [-2.31025622,  0.39134594],\n",
       "       [-2.54370523,  0.43299606],\n",
       "       [-3.21593942,  0.13346807],\n",
       "       [-2.30273318,  0.09870885],\n",
       "       [-2.35575405, -0.03728186],\n",
       "       [-2.50666891, -0.14601688],\n",
       "       [-2.46882007,  0.13095149],\n",
       "       [-2.56231991,  0.36771886],\n",
       "       [-2.63953472,  0.31203998],\n",
       "       [-2.63198939, -0.19696122],\n",
       "       [-2.58739848, -0.20431849],\n",
       "       [-2.4099325 ,  0.41092426],\n",
       "       [-2.64886233,  0.81336382],\n",
       "       [-2.59873675,  1.09314576],\n",
       "       [-2.63692688, -0.12132235],\n",
       "       [-2.86624165,  0.06936447],\n",
       "       [-2.62523805,  0.59937002],\n",
       "       [-2.80068412,  0.26864374],\n",
       "       [-2.98050204, -0.48795834],\n",
       "       [-2.59000631,  0.22904384],\n",
       "       [-2.77010243,  0.26352753],\n",
       "       [-2.84936871, -0.94096057],\n",
       "       [-2.99740655, -0.34192606],\n",
       "       [-2.40561449,  0.18887143],\n",
       "       [-2.20948924,  0.43666314],\n",
       "       [-2.71445143, -0.2502082 ],\n",
       "       [-2.53814826,  0.50377114],\n",
       "       [-2.83946217, -0.22794557],\n",
       "       [-2.54308575,  0.57941002],\n",
       "       [-2.70335978,  0.10770608],\n",
       "       [ 1.28482569,  0.68516047],\n",
       "       [ 0.93248853,  0.31833364],\n",
       "       [ 1.46430232,  0.50426282],\n",
       "       [ 0.18331772, -0.82795901],\n",
       "       [ 1.08810326,  0.07459068],\n",
       "       [ 0.64166908, -0.41824687],\n",
       "       [ 1.09506066,  0.28346827],\n",
       "       [-0.74912267, -1.00489096],\n",
       "       [ 1.04413183,  0.2283619 ],\n",
       "       [-0.0087454 , -0.72308191],\n",
       "       [-0.50784088, -1.26597119],\n",
       "       [ 0.51169856, -0.10398124],\n",
       "       [ 0.26497651, -0.55003646],\n",
       "       [ 0.98493451, -0.12481785],\n",
       "       [-0.17392537, -0.25485421],\n",
       "       [ 0.92786078,  0.46717949],\n",
       "       [ 0.66028376, -0.35296967],\n",
       "       [ 0.23610499, -0.33361077],\n",
       "       [ 0.94473373, -0.54314555],\n",
       "       [ 0.04522698, -0.58383438],\n",
       "       [ 1.11628318, -0.08461685],\n",
       "       [ 0.35788842, -0.06892503],\n",
       "       [ 1.29818388, -0.32778731],\n",
       "       [ 0.92172892, -0.18273779],\n",
       "       [ 0.71485333,  0.14905594],\n",
       "       [ 0.90017437,  0.32850447],\n",
       "       [ 1.33202444,  0.24444088],\n",
       "       [ 1.55780216,  0.26749545],\n",
       "       [ 0.81329065, -0.1633503 ],\n",
       "       [-0.30558378, -0.36826219],\n",
       "       [-0.06812649, -0.70517213],\n",
       "       [-0.18962247, -0.68028676],\n",
       "       [ 0.13642871, -0.31403244],\n",
       "       [ 1.38002644, -0.42095429],\n",
       "       [ 0.58800644, -0.48428742],\n",
       "       [ 0.80685831,  0.19418231],\n",
       "       [ 1.22069088,  0.40761959],\n",
       "       [ 0.81509524, -0.37203706],\n",
       "       [ 0.24595768, -0.2685244 ],\n",
       "       [ 0.16641322, -0.68192672],\n",
       "       [ 0.46480029, -0.67071154],\n",
       "       [ 0.8908152 , -0.03446444],\n",
       "       [ 0.23054802, -0.40438585],\n",
       "       [-0.70453176, -1.01224823],\n",
       "       [ 0.35698149, -0.50491009],\n",
       "       [ 0.33193448, -0.21265468],\n",
       "       [ 0.37621565, -0.29321893],\n",
       "       [ 0.64257601,  0.01773819],\n",
       "       [-0.90646986, -0.75609337],\n",
       "       [ 0.29900084, -0.34889781],\n",
       "       [ 2.53119273, -0.00984911],\n",
       "       [ 1.41523588, -0.57491635],\n",
       "       [ 2.61667602,  0.34390315],\n",
       "       [ 1.97153105, -0.1797279 ],\n",
       "       [ 2.35000592, -0.04026095],\n",
       "       [ 3.39703874,  0.55083667],\n",
       "       [ 0.52123224, -1.19275873],\n",
       "       [ 2.93258707,  0.3555    ],\n",
       "       [ 2.32122882, -0.2438315 ],\n",
       "       [ 2.91675097,  0.78279195],\n",
       "       [ 1.66177415,  0.24222841],\n",
       "       [ 1.80340195, -0.21563762],\n",
       "       [ 2.1655918 ,  0.21627559],\n",
       "       [ 1.34616358, -0.77681835],\n",
       "       [ 1.58592822, -0.53964071],\n",
       "       [ 1.90445637,  0.11925069],\n",
       "       [ 1.94968906,  0.04194326],\n",
       "       [ 3.48705536,  1.17573933],\n",
       "       [ 3.79564542,  0.25732297],\n",
       "       [ 1.30079171, -0.76114964],\n",
       "       [ 2.42781791,  0.37819601],\n",
       "       [ 1.19900111, -0.60609153],\n",
       "       [ 3.49992004,  0.4606741 ],\n",
       "       [ 1.38876613, -0.20439933],\n",
       "       [ 2.2754305 ,  0.33499061],\n",
       "       [ 2.61409047,  0.56090136],\n",
       "       [ 1.25850816, -0.17970479],\n",
       "       [ 1.29113206, -0.11666865],\n",
       "       [ 2.12360872, -0.20972948],\n",
       "       [ 2.38800302,  0.4646398 ],\n",
       "       [ 2.84167278,  0.37526917],\n",
       "       [ 3.23067366,  1.37416509],\n",
       "       [ 2.15943764, -0.21727758],\n",
       "       [ 1.44416124, -0.14341341],\n",
       "       [ 1.78129481, -0.49990168],\n",
       "       [ 3.07649993,  0.68808568],\n",
       "       [ 2.14424331,  0.1400642 ],\n",
       "       [ 1.90509815,  0.04930053],\n",
       "       [ 1.16932634, -0.16499026],\n",
       "       [ 2.10761114,  0.37228787],\n",
       "       [ 2.31415471,  0.18365128],\n",
       "       [ 1.9222678 ,  0.40920347],\n",
       "       [ 1.41523588, -0.57491635],\n",
       "       [ 2.56301338,  0.2778626 ],\n",
       "       [ 2.41874618,  0.3047982 ],\n",
       "       [ 1.94410979,  0.1875323 ],\n",
       "       [ 1.52716661, -0.37531698],\n",
       "       [ 1.76434572,  0.07885885],\n",
       "       [ 1.90094161,  0.11662796],\n",
       "       [ 1.39018886, -0.28266094]])"
      ]
     },
     "execution_count": 7,
     "metadata": {},
     "output_type": "execute_result"
    }
   ],
   "source": [
    "import matplotlib.pyplot as plt                 \n",
    "from sklearn.decomposition import PCA          \n",
    "from sklearn.datasets import load_iris\n",
    "data = load_iris()\n",
    "y = data.target\n",
    "x = data.data\n",
    "pca = PCA(n_components = 2)     \n",
    "#加载PCA算法，设置降维后主成分数目为2\n",
    "reduced_x = pca.fit_transform(x)   #对样本进行降维\n",
    "reduced_x\n"
   ]
  },
  {
   "cell_type": "code",
   "execution_count": 8,
   "metadata": {},
   "outputs": [
    {
     "data": {
      "image/png": "[encoded data removed]",
      "text/plain": [
       "<Figure size 432x288 with 1 Axes>"
      ]
     },
     "metadata": {
      "needs_background": "light"
     },
     "output_type": "display_data"
    }
   ],
   "source": [
    "red_x,red_y = [],[]\n",
    "blue_x,blue_y = [],[]\n",
    "green_x,green_y = [],[]\n",
    "for i in range(len(reduced_x)):\n",
    "    if y[i] ==0:\n",
    "        red_x.append(reduced_x[i][0])\n",
    "        red_y.append(reduced_x[i][1])\n",
    "    elif y[i]==1:\n",
    "        blue_x.append(reduced_x[i][0])\n",
    "        blue_y.append(reduced_x[i][1])\n",
    "    else:\n",
    "        green_x.append(reduced_x[i][0])\n",
    "        green_y.append(reduced_x[i][1])\n",
    "plt.scatter(red_x,red_y,c='r',marker='x')\n",
    "plt.scatter(blue_x,blue_y,c='b',marker='D')\n",
    "plt.scatter(green_x,green_y,c='g',marker='.')\n",
    "plt.show()\n"
   ]
  }
 ],
 "metadata": {
  "kernelspec": {
   "display_name": "Python 3",
   "language": "python",
   "name": "python3"
  },
  "language_info": {
   "codemirror_mode": {
    "name": "ipython",
    "version": 3
   },
   "file_extension": ".py",
   "mimetype": "text/x-python",
   "name": "python",
   "nbconvert_exporter": "python",
   "pygments_lexer": "ipython3",
   "version": "3.7.4"
  },
  "toc": {
   "base_numbering": 1,
   "nav_menu": {},
   "number_sections": true,
   "sideBar": true,
   "skip_h1_title": false,
   "title_cell": "Table of Contents",
   "title_sidebar": "Contents",
   "toc_cell": false,
   "toc_position": {},
   "toc_section_display": true,
   "toc_window_display": false
  }
 },
 "nbformat": 4,
 "nbformat_minor": 2
}
